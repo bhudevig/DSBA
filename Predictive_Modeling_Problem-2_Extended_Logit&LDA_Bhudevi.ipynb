{
 "cells": [
  {
   "cell_type": "markdown",
   "id": "9ddaa822",
   "metadata": {},
   "source": [
    "# ProblemStatement: Logistic Regression and Linear Discriminant Analysis\n",
    "### You are hired by the Government to do an analysis of car crashes. You are provided details of car crashes, among which some people survived and some didn't. You have to help the government in predicting whether a person will survive or not on the basis of the information given in the data set so as to provide insights that will help the government to make stronger laws for car manufacturers to ensure safety measures. Also, find out the important factors on the basis of which you made your predictions."
   ]
  },
  {
   "cell_type": "markdown",
   "id": "de6b568d",
   "metadata": {},
   "source": [
    "### Questions for Problem 2:\n",
    "\n",
    "2.1) Data Ingestion: Read the dataset. Do the descriptive statistics and do null value condition check, write an inference on it. Perform Univariate and Bivariate Analysis. Do exploratory data analysis. (8 marks)\n",
    "\n",
    "2.2) Encode the data (having string values) for Modelling. Data Split: Split the data into train and test (70:30). Apply Logistic Regression and LDA (linear discriminant analysis). (8 marks)\n",
    "\n",
    "2.3) Performance Metrics: Check the performance of Predictions on Train and Test sets using Accuracy, Confusion Matrix, Plot ROC curve and get ROC_AUC score for each model. Compare both the models and write inferences, which model is best/optimized. (8 marks)\n",
    "\n",
    "2.4) Inference: Based on these predictions, what are the insights and recommendations. (6 marks)"
   ]
  },
  {
   "cell_type": "markdown",
   "id": "218add9d",
   "metadata": {},
   "source": [
    "### Data Dictionary for Car_Crash\n",
    "1. dvcat: factor with levels (estimated impact speeds) 1-9km/h, 10-24, 25-39, 40-54, 55+\n",
    "2. weight: Observation weights, albeit of uncertain accuracy, designed to account for varying sampling probabilities. (The inverse probability weighting estimator can be used to demonstrate causality when the researcher cannot conduct a controlled experiment but has observed data to model)\n",
    "3. Survived: factor with levels Survived or not_survived\n",
    "4. airbag: a factor with levels none or airbag\n",
    "5. seatbelt: a factor with levels none or belted\n",
    "6. frontal: a numeric vector; 0 = non-frontal, 1=frontal impact\n",
    "7. sex: a factor with levels f: Female or m: Male\n",
    "8. ageOFocc: age of occupant in years\n",
    "9. yearacc: year of accident\n",
    "10. yearVeh: Year of model of vehicle; a numeric vector\n",
    "11. abcat: Did one or more (driver or passenger) airbag(s) deploy? This factor has levels deploy, nodeploy and unavail\n",
    "12. occRole: a factor with levels driver or pass: passenger\n",
    "13. deploy: a numeric vector: 0 if an airbag was unavailable or did not deploy; 1 if one or more bags deployed.\n",
    "14. injSeverity: a numeric vector; 0: none, 1: possible injury, 2: no incapacity, 3: incapacity, 4: killed; 5: unknown, 6: prior death\n",
    "15. caseid: character, created by pasting together the populations sampling unit, the case number, and the vehicle number. Within each year, use this to uniquely identify the vehicle.\n"
   ]
  },
  {
   "cell_type": "markdown",
   "id": "86500fec",
   "metadata": {},
   "source": [
    "### Importing necessary libraries"
   ]
  },
  {
   "cell_type": "code",
   "execution_count": 225,
   "id": "e3886ad2",
   "metadata": {},
   "outputs": [],
   "source": [
    "import numpy as np\n",
    "import pandas as pd\n",
    "# visualisations\n",
    "import matplotlib.pyplot as plt   \n",
    "import matplotlib.style\n",
    "import seaborn as sns\n",
    "\n",
    "#Let us break the X and y dataframes into training set and test set. For this we will use\n",
    "#Sklearn package's data splitting function which is based on random function\n",
    "from sklearn.linear_model import LogisticRegression\n",
    "from sklearn.model_selection import train_test_split\n",
    "# calculate accuracy measures and confusion matrix\n",
    "from sklearn import metrics"
   ]
  },
  {
   "cell_type": "code",
   "execution_count": 226,
   "id": "b2910991",
   "metadata": {},
   "outputs": [],
   "source": [
    "import warnings\n",
    "warnings.filterwarnings(\"ignore\", category=DeprecationWarning) "
   ]
  },
  {
   "cell_type": "markdown",
   "id": "a8b0aa53",
   "metadata": {},
   "source": [
    "**load the dataset into pandas dataframe**"
   ]
  },
  {
   "cell_type": "code",
   "execution_count": 227,
   "id": "b0817a77",
   "metadata": {},
   "outputs": [],
   "source": [
    "df = pd.read_csv(\"Car_Crash.csv\")"
   ]
  },
  {
   "cell_type": "markdown",
   "id": "20ad2f75",
   "metadata": {},
   "source": [
    "### Basic Data Exploration"
   ]
  },
  {
   "cell_type": "markdown",
   "id": "4abf2897",
   "metadata": {},
   "source": [
    "In this step, we will perform the below operations to check what the data set comprises of. We will check the below things:\n",
    "\n",
    "* head of the dataset\n",
    "\n",
    "* shape of the dataset\n",
    "\n",
    "* info of the dataset\n",
    "\n",
    "* summary of the dataset"
   ]
  },
  {
   "cell_type": "markdown",
   "id": "d14978f7",
   "metadata": {},
   "source": [
    "**check the loaded data**"
   ]
  },
  {
   "cell_type": "code",
   "execution_count": 228,
   "id": "ddca88d2",
   "metadata": {},
   "outputs": [
    {
     "data": {
      "text/html": [
       "<div>\n",
       "<style scoped>\n",
       "    .dataframe tbody tr th:only-of-type {\n",
       "        vertical-align: middle;\n",
       "    }\n",
       "\n",
       "    .dataframe tbody tr th {\n",
       "        vertical-align: top;\n",
       "    }\n",
       "\n",
       "    .dataframe thead th {\n",
       "        text-align: right;\n",
       "    }\n",
       "</style>\n",
       "<table border=\"1\" class=\"dataframe\">\n",
       "  <thead>\n",
       "    <tr style=\"text-align: right;\">\n",
       "      <th></th>\n",
       "      <th>Unnamed: 0</th>\n",
       "      <th>dvcat</th>\n",
       "      <th>weight</th>\n",
       "      <th>Survived</th>\n",
       "      <th>airbag</th>\n",
       "      <th>seatbelt</th>\n",
       "      <th>frontal</th>\n",
       "      <th>sex</th>\n",
       "      <th>ageOFocc</th>\n",
       "      <th>yearacc</th>\n",
       "      <th>yearVeh</th>\n",
       "      <th>abcat</th>\n",
       "      <th>occRole</th>\n",
       "      <th>deploy</th>\n",
       "      <th>injSeverity</th>\n",
       "      <th>caseid</th>\n",
       "    </tr>\n",
       "  </thead>\n",
       "  <tbody>\n",
       "    <tr>\n",
       "      <th>0</th>\n",
       "      <td>0</td>\n",
       "      <td>55+</td>\n",
       "      <td>27.078</td>\n",
       "      <td>Not_Survived</td>\n",
       "      <td>none</td>\n",
       "      <td>none</td>\n",
       "      <td>1</td>\n",
       "      <td>m</td>\n",
       "      <td>32</td>\n",
       "      <td>1997</td>\n",
       "      <td>1987.0</td>\n",
       "      <td>unavail</td>\n",
       "      <td>driver</td>\n",
       "      <td>0</td>\n",
       "      <td>4.0</td>\n",
       "      <td>2:13:2</td>\n",
       "    </tr>\n",
       "    <tr>\n",
       "      <th>1</th>\n",
       "      <td>1</td>\n",
       "      <td>25-39</td>\n",
       "      <td>89.627</td>\n",
       "      <td>Not_Survived</td>\n",
       "      <td>airbag</td>\n",
       "      <td>belted</td>\n",
       "      <td>0</td>\n",
       "      <td>f</td>\n",
       "      <td>54</td>\n",
       "      <td>1997</td>\n",
       "      <td>1994.0</td>\n",
       "      <td>nodeploy</td>\n",
       "      <td>driver</td>\n",
       "      <td>0</td>\n",
       "      <td>4.0</td>\n",
       "      <td>2:17:1</td>\n",
       "    </tr>\n",
       "    <tr>\n",
       "      <th>2</th>\n",
       "      <td>2</td>\n",
       "      <td>55+</td>\n",
       "      <td>27.078</td>\n",
       "      <td>Not_Survived</td>\n",
       "      <td>none</td>\n",
       "      <td>belted</td>\n",
       "      <td>1</td>\n",
       "      <td>m</td>\n",
       "      <td>67</td>\n",
       "      <td>1997</td>\n",
       "      <td>1992.0</td>\n",
       "      <td>unavail</td>\n",
       "      <td>driver</td>\n",
       "      <td>0</td>\n",
       "      <td>4.0</td>\n",
       "      <td>2:79:1</td>\n",
       "    </tr>\n",
       "    <tr>\n",
       "      <th>3</th>\n",
       "      <td>3</td>\n",
       "      <td>55+</td>\n",
       "      <td>27.078</td>\n",
       "      <td>Not_Survived</td>\n",
       "      <td>none</td>\n",
       "      <td>belted</td>\n",
       "      <td>1</td>\n",
       "      <td>f</td>\n",
       "      <td>64</td>\n",
       "      <td>1997</td>\n",
       "      <td>1992.0</td>\n",
       "      <td>unavail</td>\n",
       "      <td>pass</td>\n",
       "      <td>0</td>\n",
       "      <td>4.0</td>\n",
       "      <td>2:79:1</td>\n",
       "    </tr>\n",
       "    <tr>\n",
       "      <th>4</th>\n",
       "      <td>4</td>\n",
       "      <td>55+</td>\n",
       "      <td>13.374</td>\n",
       "      <td>Not_Survived</td>\n",
       "      <td>none</td>\n",
       "      <td>none</td>\n",
       "      <td>1</td>\n",
       "      <td>m</td>\n",
       "      <td>23</td>\n",
       "      <td>1997</td>\n",
       "      <td>1986.0</td>\n",
       "      <td>unavail</td>\n",
       "      <td>driver</td>\n",
       "      <td>0</td>\n",
       "      <td>4.0</td>\n",
       "      <td>4:58:1</td>\n",
       "    </tr>\n",
       "  </tbody>\n",
       "</table>\n",
       "</div>"
      ],
      "text/plain": [
       "   Unnamed: 0  dvcat  weight      Survived  airbag seatbelt  frontal sex  \\\n",
       "0           0    55+  27.078  Not_Survived    none     none        1   m   \n",
       "1           1  25-39  89.627  Not_Survived  airbag   belted        0   f   \n",
       "2           2    55+  27.078  Not_Survived    none   belted        1   m   \n",
       "3           3    55+  27.078  Not_Survived    none   belted        1   f   \n",
       "4           4    55+  13.374  Not_Survived    none     none        1   m   \n",
       "\n",
       "   ageOFocc  yearacc  yearVeh     abcat occRole  deploy  injSeverity  caseid  \n",
       "0        32     1997   1987.0   unavail  driver       0          4.0  2:13:2  \n",
       "1        54     1997   1994.0  nodeploy  driver       0          4.0  2:17:1  \n",
       "2        67     1997   1992.0   unavail  driver       0          4.0  2:79:1  \n",
       "3        64     1997   1992.0   unavail    pass       0          4.0  2:79:1  \n",
       "4        23     1997   1986.0   unavail  driver       0          4.0  4:58:1  "
      ]
     },
     "execution_count": 228,
     "metadata": {},
     "output_type": "execute_result"
    }
   ],
   "source": [
    "df.head()"
   ]
  },
  {
   "cell_type": "code",
   "execution_count": 229,
   "id": "c054bf9a",
   "metadata": {},
   "outputs": [
    {
     "data": {
      "text/html": [
       "<div>\n",
       "<style scoped>\n",
       "    .dataframe tbody tr th:only-of-type {\n",
       "        vertical-align: middle;\n",
       "    }\n",
       "\n",
       "    .dataframe tbody tr th {\n",
       "        vertical-align: top;\n",
       "    }\n",
       "\n",
       "    .dataframe thead th {\n",
       "        text-align: right;\n",
       "    }\n",
       "</style>\n",
       "<table border=\"1\" class=\"dataframe\">\n",
       "  <thead>\n",
       "    <tr style=\"text-align: right;\">\n",
       "      <th></th>\n",
       "      <th>Unnamed: 0</th>\n",
       "      <th>dvcat</th>\n",
       "      <th>weight</th>\n",
       "      <th>Survived</th>\n",
       "      <th>airbag</th>\n",
       "      <th>seatbelt</th>\n",
       "      <th>frontal</th>\n",
       "      <th>sex</th>\n",
       "      <th>ageOFocc</th>\n",
       "      <th>yearacc</th>\n",
       "      <th>yearVeh</th>\n",
       "      <th>abcat</th>\n",
       "      <th>occRole</th>\n",
       "      <th>deploy</th>\n",
       "      <th>injSeverity</th>\n",
       "      <th>caseid</th>\n",
       "    </tr>\n",
       "  </thead>\n",
       "  <tbody>\n",
       "    <tr>\n",
       "      <th>11212</th>\n",
       "      <td>11212</td>\n",
       "      <td>25-39</td>\n",
       "      <td>3179.688</td>\n",
       "      <td>survived</td>\n",
       "      <td>none</td>\n",
       "      <td>belted</td>\n",
       "      <td>1</td>\n",
       "      <td>m</td>\n",
       "      <td>17</td>\n",
       "      <td>2002</td>\n",
       "      <td>1985.0</td>\n",
       "      <td>unavail</td>\n",
       "      <td>driver</td>\n",
       "      <td>0</td>\n",
       "      <td>0.0</td>\n",
       "      <td>82:107:1</td>\n",
       "    </tr>\n",
       "    <tr>\n",
       "      <th>11213</th>\n",
       "      <td>11213</td>\n",
       "      <td>10-24</td>\n",
       "      <td>71.228</td>\n",
       "      <td>survived</td>\n",
       "      <td>airbag</td>\n",
       "      <td>belted</td>\n",
       "      <td>1</td>\n",
       "      <td>m</td>\n",
       "      <td>54</td>\n",
       "      <td>2002</td>\n",
       "      <td>2002.0</td>\n",
       "      <td>nodeploy</td>\n",
       "      <td>driver</td>\n",
       "      <td>0</td>\n",
       "      <td>2.0</td>\n",
       "      <td>82:108:2</td>\n",
       "    </tr>\n",
       "    <tr>\n",
       "      <th>11214</th>\n",
       "      <td>11214</td>\n",
       "      <td>10-24</td>\n",
       "      <td>10.474</td>\n",
       "      <td>survived</td>\n",
       "      <td>airbag</td>\n",
       "      <td>belted</td>\n",
       "      <td>1</td>\n",
       "      <td>f</td>\n",
       "      <td>27</td>\n",
       "      <td>2002</td>\n",
       "      <td>1990.0</td>\n",
       "      <td>deploy</td>\n",
       "      <td>driver</td>\n",
       "      <td>1</td>\n",
       "      <td>3.0</td>\n",
       "      <td>82:110:1</td>\n",
       "    </tr>\n",
       "    <tr>\n",
       "      <th>11215</th>\n",
       "      <td>11215</td>\n",
       "      <td>25-39</td>\n",
       "      <td>10.474</td>\n",
       "      <td>survived</td>\n",
       "      <td>airbag</td>\n",
       "      <td>belted</td>\n",
       "      <td>1</td>\n",
       "      <td>f</td>\n",
       "      <td>18</td>\n",
       "      <td>2002</td>\n",
       "      <td>1999.0</td>\n",
       "      <td>deploy</td>\n",
       "      <td>driver</td>\n",
       "      <td>1</td>\n",
       "      <td>0.0</td>\n",
       "      <td>82:110:2</td>\n",
       "    </tr>\n",
       "    <tr>\n",
       "      <th>11216</th>\n",
       "      <td>11216</td>\n",
       "      <td>25-39</td>\n",
       "      <td>10.474</td>\n",
       "      <td>survived</td>\n",
       "      <td>airbag</td>\n",
       "      <td>belted</td>\n",
       "      <td>1</td>\n",
       "      <td>m</td>\n",
       "      <td>17</td>\n",
       "      <td>2002</td>\n",
       "      <td>1999.0</td>\n",
       "      <td>deploy</td>\n",
       "      <td>pass</td>\n",
       "      <td>1</td>\n",
       "      <td>0.0</td>\n",
       "      <td>82:110:2</td>\n",
       "    </tr>\n",
       "  </tbody>\n",
       "</table>\n",
       "</div>"
      ],
      "text/plain": [
       "       Unnamed: 0  dvcat    weight  Survived  airbag seatbelt  frontal sex  \\\n",
       "11212       11212  25-39  3179.688  survived    none   belted        1   m   \n",
       "11213       11213  10-24    71.228  survived  airbag   belted        1   m   \n",
       "11214       11214  10-24    10.474  survived  airbag   belted        1   f   \n",
       "11215       11215  25-39    10.474  survived  airbag   belted        1   f   \n",
       "11216       11216  25-39    10.474  survived  airbag   belted        1   m   \n",
       "\n",
       "       ageOFocc  yearacc  yearVeh     abcat occRole  deploy  injSeverity  \\\n",
       "11212        17     2002   1985.0   unavail  driver       0          0.0   \n",
       "11213        54     2002   2002.0  nodeploy  driver       0          2.0   \n",
       "11214        27     2002   1990.0    deploy  driver       1          3.0   \n",
       "11215        18     2002   1999.0    deploy  driver       1          0.0   \n",
       "11216        17     2002   1999.0    deploy    pass       1          0.0   \n",
       "\n",
       "         caseid  \n",
       "11212  82:107:1  \n",
       "11213  82:108:2  \n",
       "11214  82:110:1  \n",
       "11215  82:110:2  \n",
       "11216  82:110:2  "
      ]
     },
     "execution_count": 229,
     "metadata": {},
     "output_type": "execute_result"
    }
   ],
   "source": [
    "df.tail()"
   ]
  },
  {
   "cell_type": "markdown",
   "id": "bb30c774",
   "metadata": {},
   "source": [
    "**- data is loaded properly into the dataframe df**\n",
    "\n",
    "**shape of the dataset**"
   ]
  },
  {
   "cell_type": "code",
   "execution_count": 230,
   "id": "d032aa03",
   "metadata": {},
   "outputs": [
    {
     "data": {
      "text/plain": [
       "(11217, 16)"
      ]
     },
     "execution_count": 230,
     "metadata": {},
     "output_type": "execute_result"
    }
   ],
   "source": [
    "df.shape"
   ]
  },
  {
   "cell_type": "markdown",
   "id": "e28ad2ad",
   "metadata": {},
   "source": [
    "- 11217 observations were provided for analysis \n",
    "- 16 features are available for analysis"
   ]
  },
  {
   "cell_type": "markdown",
   "id": "8427b785",
   "metadata": {},
   "source": [
    "**Basic information of the dataset**"
   ]
  },
  {
   "cell_type": "code",
   "execution_count": 231,
   "id": "6347d742",
   "metadata": {},
   "outputs": [
    {
     "name": "stdout",
     "output_type": "stream",
     "text": [
      "<class 'pandas.core.frame.DataFrame'>\n",
      "RangeIndex: 11217 entries, 0 to 11216\n",
      "Data columns (total 16 columns):\n",
      " #   Column       Non-Null Count  Dtype  \n",
      "---  ------       --------------  -----  \n",
      " 0   Unnamed: 0   11217 non-null  int64  \n",
      " 1   dvcat        11217 non-null  object \n",
      " 2   weight       11217 non-null  float64\n",
      " 3   Survived     11217 non-null  object \n",
      " 4   airbag       11217 non-null  object \n",
      " 5   seatbelt     11217 non-null  object \n",
      " 6   frontal      11217 non-null  int64  \n",
      " 7   sex          11217 non-null  object \n",
      " 8   ageOFocc     11217 non-null  int64  \n",
      " 9   yearacc      11217 non-null  int64  \n",
      " 10  yearVeh      11217 non-null  float64\n",
      " 11  abcat        11217 non-null  object \n",
      " 12  occRole      11217 non-null  object \n",
      " 13  deploy       11217 non-null  int64  \n",
      " 14  injSeverity  11140 non-null  float64\n",
      " 15  caseid       11217 non-null  object \n",
      "dtypes: float64(3), int64(5), object(8)\n",
      "memory usage: 1.4+ MB\n"
     ]
    }
   ],
   "source": [
    "df.info()"
   ]
  },
  {
   "cell_type": "markdown",
   "id": "7885d948",
   "metadata": {},
   "source": [
    "1. Null values are present in the data \n",
    "2. Float,int and object data types are present in our data"
   ]
  },
  {
   "cell_type": "code",
   "execution_count": 232,
   "id": "a4cf6145",
   "metadata": {},
   "outputs": [],
   "source": [
    "# drop the id column as it is useless for the model\n",
    "df = df.drop('Unnamed: 0', axis=1)"
   ]
  },
  {
   "cell_type": "markdown",
   "id": "a40b599c",
   "metadata": {},
   "source": [
    "**5-POINT summary of the dataset**"
   ]
  },
  {
   "cell_type": "code",
   "execution_count": 233,
   "id": "003a3620",
   "metadata": {
    "scrolled": false
   },
   "outputs": [
    {
     "data": {
      "text/html": [
       "<div>\n",
       "<style scoped>\n",
       "    .dataframe tbody tr th:only-of-type {\n",
       "        vertical-align: middle;\n",
       "    }\n",
       "\n",
       "    .dataframe tbody tr th {\n",
       "        vertical-align: top;\n",
       "    }\n",
       "\n",
       "    .dataframe thead th {\n",
       "        text-align: right;\n",
       "    }\n",
       "</style>\n",
       "<table border=\"1\" class=\"dataframe\">\n",
       "  <thead>\n",
       "    <tr style=\"text-align: right;\">\n",
       "      <th></th>\n",
       "      <th>count</th>\n",
       "      <th>unique</th>\n",
       "      <th>top</th>\n",
       "      <th>freq</th>\n",
       "      <th>mean</th>\n",
       "      <th>std</th>\n",
       "      <th>min</th>\n",
       "      <th>25%</th>\n",
       "      <th>50%</th>\n",
       "      <th>75%</th>\n",
       "      <th>max</th>\n",
       "    </tr>\n",
       "  </thead>\n",
       "  <tbody>\n",
       "    <tr>\n",
       "      <th>dvcat</th>\n",
       "      <td>11217</td>\n",
       "      <td>5</td>\n",
       "      <td>10-24</td>\n",
       "      <td>5414</td>\n",
       "      <td>NaN</td>\n",
       "      <td>NaN</td>\n",
       "      <td>NaN</td>\n",
       "      <td>NaN</td>\n",
       "      <td>NaN</td>\n",
       "      <td>NaN</td>\n",
       "      <td>NaN</td>\n",
       "    </tr>\n",
       "    <tr>\n",
       "      <th>weight</th>\n",
       "      <td>11217.0</td>\n",
       "      <td>NaN</td>\n",
       "      <td>NaN</td>\n",
       "      <td>NaN</td>\n",
       "      <td>431.405309</td>\n",
       "      <td>1406.202941</td>\n",
       "      <td>0.0</td>\n",
       "      <td>28.292</td>\n",
       "      <td>82.195</td>\n",
       "      <td>324.056</td>\n",
       "      <td>31694.04</td>\n",
       "    </tr>\n",
       "    <tr>\n",
       "      <th>Survived</th>\n",
       "      <td>11217</td>\n",
       "      <td>2</td>\n",
       "      <td>survived</td>\n",
       "      <td>10037</td>\n",
       "      <td>NaN</td>\n",
       "      <td>NaN</td>\n",
       "      <td>NaN</td>\n",
       "      <td>NaN</td>\n",
       "      <td>NaN</td>\n",
       "      <td>NaN</td>\n",
       "      <td>NaN</td>\n",
       "    </tr>\n",
       "    <tr>\n",
       "      <th>airbag</th>\n",
       "      <td>11217</td>\n",
       "      <td>2</td>\n",
       "      <td>airbag</td>\n",
       "      <td>7064</td>\n",
       "      <td>NaN</td>\n",
       "      <td>NaN</td>\n",
       "      <td>NaN</td>\n",
       "      <td>NaN</td>\n",
       "      <td>NaN</td>\n",
       "      <td>NaN</td>\n",
       "      <td>NaN</td>\n",
       "    </tr>\n",
       "    <tr>\n",
       "      <th>seatbelt</th>\n",
       "      <td>11217</td>\n",
       "      <td>2</td>\n",
       "      <td>belted</td>\n",
       "      <td>7849</td>\n",
       "      <td>NaN</td>\n",
       "      <td>NaN</td>\n",
       "      <td>NaN</td>\n",
       "      <td>NaN</td>\n",
       "      <td>NaN</td>\n",
       "      <td>NaN</td>\n",
       "      <td>NaN</td>\n",
       "    </tr>\n",
       "    <tr>\n",
       "      <th>frontal</th>\n",
       "      <td>11217.0</td>\n",
       "      <td>NaN</td>\n",
       "      <td>NaN</td>\n",
       "      <td>NaN</td>\n",
       "      <td>0.644022</td>\n",
       "      <td>0.47883</td>\n",
       "      <td>0.0</td>\n",
       "      <td>0.0</td>\n",
       "      <td>1.0</td>\n",
       "      <td>1.0</td>\n",
       "      <td>1.0</td>\n",
       "    </tr>\n",
       "    <tr>\n",
       "      <th>sex</th>\n",
       "      <td>11217</td>\n",
       "      <td>2</td>\n",
       "      <td>m</td>\n",
       "      <td>6048</td>\n",
       "      <td>NaN</td>\n",
       "      <td>NaN</td>\n",
       "      <td>NaN</td>\n",
       "      <td>NaN</td>\n",
       "      <td>NaN</td>\n",
       "      <td>NaN</td>\n",
       "      <td>NaN</td>\n",
       "    </tr>\n",
       "    <tr>\n",
       "      <th>ageOFocc</th>\n",
       "      <td>11217.0</td>\n",
       "      <td>NaN</td>\n",
       "      <td>NaN</td>\n",
       "      <td>NaN</td>\n",
       "      <td>37.427654</td>\n",
       "      <td>18.192429</td>\n",
       "      <td>16.0</td>\n",
       "      <td>22.0</td>\n",
       "      <td>33.0</td>\n",
       "      <td>48.0</td>\n",
       "      <td>97.0</td>\n",
       "    </tr>\n",
       "    <tr>\n",
       "      <th>yearacc</th>\n",
       "      <td>11217.0</td>\n",
       "      <td>NaN</td>\n",
       "      <td>NaN</td>\n",
       "      <td>NaN</td>\n",
       "      <td>2001.103236</td>\n",
       "      <td>1.056805</td>\n",
       "      <td>1997.0</td>\n",
       "      <td>2001.0</td>\n",
       "      <td>2001.0</td>\n",
       "      <td>2002.0</td>\n",
       "      <td>2002.0</td>\n",
       "    </tr>\n",
       "    <tr>\n",
       "      <th>yearVeh</th>\n",
       "      <td>11217.0</td>\n",
       "      <td>NaN</td>\n",
       "      <td>NaN</td>\n",
       "      <td>NaN</td>\n",
       "      <td>1994.177944</td>\n",
       "      <td>5.658704</td>\n",
       "      <td>1953.0</td>\n",
       "      <td>1991.0</td>\n",
       "      <td>1995.0</td>\n",
       "      <td>1999.0</td>\n",
       "      <td>2003.0</td>\n",
       "    </tr>\n",
       "    <tr>\n",
       "      <th>abcat</th>\n",
       "      <td>11217</td>\n",
       "      <td>3</td>\n",
       "      <td>deploy</td>\n",
       "      <td>4365</td>\n",
       "      <td>NaN</td>\n",
       "      <td>NaN</td>\n",
       "      <td>NaN</td>\n",
       "      <td>NaN</td>\n",
       "      <td>NaN</td>\n",
       "      <td>NaN</td>\n",
       "      <td>NaN</td>\n",
       "    </tr>\n",
       "    <tr>\n",
       "      <th>occRole</th>\n",
       "      <td>11217</td>\n",
       "      <td>2</td>\n",
       "      <td>driver</td>\n",
       "      <td>8786</td>\n",
       "      <td>NaN</td>\n",
       "      <td>NaN</td>\n",
       "      <td>NaN</td>\n",
       "      <td>NaN</td>\n",
       "      <td>NaN</td>\n",
       "      <td>NaN</td>\n",
       "      <td>NaN</td>\n",
       "    </tr>\n",
       "    <tr>\n",
       "      <th>deploy</th>\n",
       "      <td>11217.0</td>\n",
       "      <td>NaN</td>\n",
       "      <td>NaN</td>\n",
       "      <td>NaN</td>\n",
       "      <td>0.389141</td>\n",
       "      <td>0.487577</td>\n",
       "      <td>0.0</td>\n",
       "      <td>0.0</td>\n",
       "      <td>0.0</td>\n",
       "      <td>1.0</td>\n",
       "      <td>1.0</td>\n",
       "    </tr>\n",
       "    <tr>\n",
       "      <th>injSeverity</th>\n",
       "      <td>11140.0</td>\n",
       "      <td>NaN</td>\n",
       "      <td>NaN</td>\n",
       "      <td>NaN</td>\n",
       "      <td>1.825583</td>\n",
       "      <td>1.378535</td>\n",
       "      <td>0.0</td>\n",
       "      <td>1.0</td>\n",
       "      <td>2.0</td>\n",
       "      <td>3.0</td>\n",
       "      <td>5.0</td>\n",
       "    </tr>\n",
       "    <tr>\n",
       "      <th>caseid</th>\n",
       "      <td>11217</td>\n",
       "      <td>6488</td>\n",
       "      <td>73:100:2</td>\n",
       "      <td>7</td>\n",
       "      <td>NaN</td>\n",
       "      <td>NaN</td>\n",
       "      <td>NaN</td>\n",
       "      <td>NaN</td>\n",
       "      <td>NaN</td>\n",
       "      <td>NaN</td>\n",
       "      <td>NaN</td>\n",
       "    </tr>\n",
       "  </tbody>\n",
       "</table>\n",
       "</div>"
      ],
      "text/plain": [
       "               count unique       top   freq         mean          std  \\\n",
       "dvcat          11217      5     10-24   5414          NaN          NaN   \n",
       "weight       11217.0    NaN       NaN    NaN   431.405309  1406.202941   \n",
       "Survived       11217      2  survived  10037          NaN          NaN   \n",
       "airbag         11217      2    airbag   7064          NaN          NaN   \n",
       "seatbelt       11217      2    belted   7849          NaN          NaN   \n",
       "frontal      11217.0    NaN       NaN    NaN     0.644022      0.47883   \n",
       "sex            11217      2         m   6048          NaN          NaN   \n",
       "ageOFocc     11217.0    NaN       NaN    NaN    37.427654    18.192429   \n",
       "yearacc      11217.0    NaN       NaN    NaN  2001.103236     1.056805   \n",
       "yearVeh      11217.0    NaN       NaN    NaN  1994.177944     5.658704   \n",
       "abcat          11217      3    deploy   4365          NaN          NaN   \n",
       "occRole        11217      2    driver   8786          NaN          NaN   \n",
       "deploy       11217.0    NaN       NaN    NaN     0.389141     0.487577   \n",
       "injSeverity  11140.0    NaN       NaN    NaN     1.825583     1.378535   \n",
       "caseid         11217   6488  73:100:2      7          NaN          NaN   \n",
       "\n",
       "                min     25%     50%      75%       max  \n",
       "dvcat           NaN     NaN     NaN      NaN       NaN  \n",
       "weight          0.0  28.292  82.195  324.056  31694.04  \n",
       "Survived        NaN     NaN     NaN      NaN       NaN  \n",
       "airbag          NaN     NaN     NaN      NaN       NaN  \n",
       "seatbelt        NaN     NaN     NaN      NaN       NaN  \n",
       "frontal         0.0     0.0     1.0      1.0       1.0  \n",
       "sex             NaN     NaN     NaN      NaN       NaN  \n",
       "ageOFocc       16.0    22.0    33.0     48.0      97.0  \n",
       "yearacc      1997.0  2001.0  2001.0   2002.0    2002.0  \n",
       "yearVeh      1953.0  1991.0  1995.0   1999.0    2003.0  \n",
       "abcat           NaN     NaN     NaN      NaN       NaN  \n",
       "occRole         NaN     NaN     NaN      NaN       NaN  \n",
       "deploy          0.0     0.0     0.0      1.0       1.0  \n",
       "injSeverity     0.0     1.0     2.0      3.0       5.0  \n",
       "caseid          NaN     NaN     NaN      NaN       NaN  "
      ]
     },
     "execution_count": 233,
     "metadata": {},
     "output_type": "execute_result"
    }
   ],
   "source": [
    "df.describe(include=\"all\").T"
   ]
  },
  {
   "cell_type": "code",
   "execution_count": 234,
   "id": "a35c0ba1",
   "metadata": {},
   "outputs": [],
   "source": [
    "df = df.rename(columns = {\"dvcat\":\"impact_speeds\",\"ageOFocc\":\"age_of_occupant\",\"yearacc\":\"year_of_accident\",\"yearVeh\":\"year_of_model\",\n",
    "                    \"abcat\":\"airbag_deploy_type\",\"occRole\":\"Occupant_role\",\"deploy\":\"airbag_deployed_or_not\"\n",
    "                    })"
   ]
  },
  {
   "cell_type": "code",
   "execution_count": 319,
   "id": "6155092f",
   "metadata": {
    "scrolled": true
   },
   "outputs": [
    {
     "data": {
      "text/html": [
       "<div>\n",
       "<style scoped>\n",
       "    .dataframe tbody tr th:only-of-type {\n",
       "        vertical-align: middle;\n",
       "    }\n",
       "\n",
       "    .dataframe tbody tr th {\n",
       "        vertical-align: top;\n",
       "    }\n",
       "\n",
       "    .dataframe thead th {\n",
       "        text-align: right;\n",
       "    }\n",
       "</style>\n",
       "<table border=\"1\" class=\"dataframe\">\n",
       "  <thead>\n",
       "    <tr style=\"text-align: right;\">\n",
       "      <th></th>\n",
       "      <th>0</th>\n",
       "      <th>1</th>\n",
       "      <th>2</th>\n",
       "      <th>3</th>\n",
       "      <th>4</th>\n",
       "    </tr>\n",
       "  </thead>\n",
       "  <tbody>\n",
       "    <tr>\n",
       "      <th>impact_speeds</th>\n",
       "      <td>5</td>\n",
       "      <td>3</td>\n",
       "      <td>5</td>\n",
       "      <td>5</td>\n",
       "      <td>5</td>\n",
       "    </tr>\n",
       "    <tr>\n",
       "      <th>weight</th>\n",
       "      <td>0.035271</td>\n",
       "      <td>0.116747</td>\n",
       "      <td>0.035271</td>\n",
       "      <td>0.035271</td>\n",
       "      <td>0.017421</td>\n",
       "    </tr>\n",
       "    <tr>\n",
       "      <th>Survived</th>\n",
       "      <td>1</td>\n",
       "      <td>1</td>\n",
       "      <td>1</td>\n",
       "      <td>1</td>\n",
       "      <td>1</td>\n",
       "    </tr>\n",
       "    <tr>\n",
       "      <th>seatbelt</th>\n",
       "      <td>1</td>\n",
       "      <td>0</td>\n",
       "      <td>0</td>\n",
       "      <td>0</td>\n",
       "      <td>1</td>\n",
       "    </tr>\n",
       "    <tr>\n",
       "      <th>frontal</th>\n",
       "      <td>1</td>\n",
       "      <td>0</td>\n",
       "      <td>1</td>\n",
       "      <td>1</td>\n",
       "      <td>1</td>\n",
       "    </tr>\n",
       "    <tr>\n",
       "      <th>age_of_occupant</th>\n",
       "      <td>0.225352</td>\n",
       "      <td>0.535211</td>\n",
       "      <td>0.71831</td>\n",
       "      <td>0.676056</td>\n",
       "      <td>0.098592</td>\n",
       "    </tr>\n",
       "    <tr>\n",
       "      <th>airbag_deploy_type</th>\n",
       "      <td>3</td>\n",
       "      <td>2</td>\n",
       "      <td>3</td>\n",
       "      <td>3</td>\n",
       "      <td>3</td>\n",
       "    </tr>\n",
       "    <tr>\n",
       "      <th>injSeverity</th>\n",
       "      <td>4.0</td>\n",
       "      <td>4.0</td>\n",
       "      <td>4.0</td>\n",
       "      <td>4.0</td>\n",
       "      <td>4.0</td>\n",
       "    </tr>\n",
       "    <tr>\n",
       "      <th>car_service_years</th>\n",
       "      <td>0.478261</td>\n",
       "      <td>0.173913</td>\n",
       "      <td>0.26087</td>\n",
       "      <td>0.26087</td>\n",
       "      <td>0.521739</td>\n",
       "    </tr>\n",
       "    <tr>\n",
       "      <th>sex_m</th>\n",
       "      <td>1</td>\n",
       "      <td>0</td>\n",
       "      <td>1</td>\n",
       "      <td>0</td>\n",
       "      <td>1</td>\n",
       "    </tr>\n",
       "    <tr>\n",
       "      <th>Occupant_role_pass</th>\n",
       "      <td>0</td>\n",
       "      <td>0</td>\n",
       "      <td>0</td>\n",
       "      <td>1</td>\n",
       "      <td>0</td>\n",
       "    </tr>\n",
       "  </tbody>\n",
       "</table>\n",
       "</div>"
      ],
      "text/plain": [
       "                           0         1         2         3         4\n",
       "impact_speeds              5         3         5         5         5\n",
       "weight              0.035271  0.116747  0.035271  0.035271  0.017421\n",
       "Survived                   1         1         1         1         1\n",
       "seatbelt                   1         0         0         0         1\n",
       "frontal                    1         0         1         1         1\n",
       "age_of_occupant     0.225352  0.535211   0.71831  0.676056  0.098592\n",
       "airbag_deploy_type         3         2         3         3         3\n",
       "injSeverity              4.0       4.0       4.0       4.0       4.0\n",
       "car_service_years   0.478261  0.173913   0.26087   0.26087  0.521739\n",
       "sex_m                      1         0         1         0         1\n",
       "Occupant_role_pass         0         0         0         1         0"
      ]
     },
     "execution_count": 319,
     "metadata": {},
     "output_type": "execute_result"
    }
   ],
   "source": [
    "df.head().T"
   ]
  },
  {
   "cell_type": "markdown",
   "id": "ff218046",
   "metadata": {},
   "source": [
    "**Check for duplicate records**"
   ]
  },
  {
   "cell_type": "code",
   "execution_count": 236,
   "id": "7244e8a8",
   "metadata": {},
   "outputs": [
    {
     "data": {
      "text/plain": [
       "0"
      ]
     },
     "execution_count": 236,
     "metadata": {},
     "output_type": "execute_result"
    }
   ],
   "source": [
    "df.duplicated().sum()"
   ]
  },
  {
   "cell_type": "markdown",
   "id": "cbc7eee5",
   "metadata": {},
   "source": [
    "No duplicate records are presnet"
   ]
  },
  {
   "cell_type": "markdown",
   "id": "1fdeb65f",
   "metadata": {},
   "source": [
    "### Dropping the uncessary columns which are not usefull in prediction"
   ]
  },
  {
   "cell_type": "markdown",
   "id": "0d8a3247",
   "metadata": {},
   "source": [
    "1. airbag columns tells us if the airbag is present or not \n",
    "2. airbag_deploy_type tells us if the airbag is deployed or notdeployed or airbag is not available\n",
    "3. airbag_deployed_or_not tells us if the airbag is deployed or not \n",
    "\n",
    "    All the 3 features are carrying same information\n",
    "        hence we decide to retain the airbag_deploy_type variable which can inform us the availability of the airbag as well as the deployment status of the airbag\n",
    "\n",
    "4. caseid is a unique identifier which will not provide any insight into prediction hence we decided to drop that feature also"
   ]
  },
  {
   "cell_type": "code",
   "execution_count": 237,
   "id": "6e706469",
   "metadata": {},
   "outputs": [],
   "source": [
    "df.drop(['airbag','airbag_deployed_or_not','caseid'],axis=1,inplace=True)"
   ]
  },
  {
   "cell_type": "code",
   "execution_count": 238,
   "id": "592107e1",
   "metadata": {},
   "outputs": [
    {
     "data": {
      "text/html": [
       "<div>\n",
       "<style scoped>\n",
       "    .dataframe tbody tr th:only-of-type {\n",
       "        vertical-align: middle;\n",
       "    }\n",
       "\n",
       "    .dataframe tbody tr th {\n",
       "        vertical-align: top;\n",
       "    }\n",
       "\n",
       "    .dataframe thead th {\n",
       "        text-align: right;\n",
       "    }\n",
       "</style>\n",
       "<table border=\"1\" class=\"dataframe\">\n",
       "  <thead>\n",
       "    <tr style=\"text-align: right;\">\n",
       "      <th></th>\n",
       "      <th>impact_speeds</th>\n",
       "      <th>weight</th>\n",
       "      <th>Survived</th>\n",
       "      <th>seatbelt</th>\n",
       "      <th>frontal</th>\n",
       "      <th>sex</th>\n",
       "      <th>age_of_occupant</th>\n",
       "      <th>year_of_accident</th>\n",
       "      <th>year_of_model</th>\n",
       "      <th>airbag_deploy_type</th>\n",
       "      <th>Occupant_role</th>\n",
       "      <th>injSeverity</th>\n",
       "    </tr>\n",
       "  </thead>\n",
       "  <tbody>\n",
       "    <tr>\n",
       "      <th>0</th>\n",
       "      <td>55+</td>\n",
       "      <td>27.078</td>\n",
       "      <td>Not_Survived</td>\n",
       "      <td>none</td>\n",
       "      <td>1</td>\n",
       "      <td>m</td>\n",
       "      <td>32</td>\n",
       "      <td>1997</td>\n",
       "      <td>1987.0</td>\n",
       "      <td>unavail</td>\n",
       "      <td>driver</td>\n",
       "      <td>4.0</td>\n",
       "    </tr>\n",
       "    <tr>\n",
       "      <th>1</th>\n",
       "      <td>25-39</td>\n",
       "      <td>89.627</td>\n",
       "      <td>Not_Survived</td>\n",
       "      <td>belted</td>\n",
       "      <td>0</td>\n",
       "      <td>f</td>\n",
       "      <td>54</td>\n",
       "      <td>1997</td>\n",
       "      <td>1994.0</td>\n",
       "      <td>nodeploy</td>\n",
       "      <td>driver</td>\n",
       "      <td>4.0</td>\n",
       "    </tr>\n",
       "    <tr>\n",
       "      <th>2</th>\n",
       "      <td>55+</td>\n",
       "      <td>27.078</td>\n",
       "      <td>Not_Survived</td>\n",
       "      <td>belted</td>\n",
       "      <td>1</td>\n",
       "      <td>m</td>\n",
       "      <td>67</td>\n",
       "      <td>1997</td>\n",
       "      <td>1992.0</td>\n",
       "      <td>unavail</td>\n",
       "      <td>driver</td>\n",
       "      <td>4.0</td>\n",
       "    </tr>\n",
       "    <tr>\n",
       "      <th>3</th>\n",
       "      <td>55+</td>\n",
       "      <td>27.078</td>\n",
       "      <td>Not_Survived</td>\n",
       "      <td>belted</td>\n",
       "      <td>1</td>\n",
       "      <td>f</td>\n",
       "      <td>64</td>\n",
       "      <td>1997</td>\n",
       "      <td>1992.0</td>\n",
       "      <td>unavail</td>\n",
       "      <td>pass</td>\n",
       "      <td>4.0</td>\n",
       "    </tr>\n",
       "    <tr>\n",
       "      <th>4</th>\n",
       "      <td>55+</td>\n",
       "      <td>13.374</td>\n",
       "      <td>Not_Survived</td>\n",
       "      <td>none</td>\n",
       "      <td>1</td>\n",
       "      <td>m</td>\n",
       "      <td>23</td>\n",
       "      <td>1997</td>\n",
       "      <td>1986.0</td>\n",
       "      <td>unavail</td>\n",
       "      <td>driver</td>\n",
       "      <td>4.0</td>\n",
       "    </tr>\n",
       "    <tr>\n",
       "      <th>...</th>\n",
       "      <td>...</td>\n",
       "      <td>...</td>\n",
       "      <td>...</td>\n",
       "      <td>...</td>\n",
       "      <td>...</td>\n",
       "      <td>...</td>\n",
       "      <td>...</td>\n",
       "      <td>...</td>\n",
       "      <td>...</td>\n",
       "      <td>...</td>\n",
       "      <td>...</td>\n",
       "      <td>...</td>\n",
       "    </tr>\n",
       "    <tr>\n",
       "      <th>11212</th>\n",
       "      <td>25-39</td>\n",
       "      <td>3179.688</td>\n",
       "      <td>survived</td>\n",
       "      <td>belted</td>\n",
       "      <td>1</td>\n",
       "      <td>m</td>\n",
       "      <td>17</td>\n",
       "      <td>2002</td>\n",
       "      <td>1985.0</td>\n",
       "      <td>unavail</td>\n",
       "      <td>driver</td>\n",
       "      <td>0.0</td>\n",
       "    </tr>\n",
       "    <tr>\n",
       "      <th>11213</th>\n",
       "      <td>10-24</td>\n",
       "      <td>71.228</td>\n",
       "      <td>survived</td>\n",
       "      <td>belted</td>\n",
       "      <td>1</td>\n",
       "      <td>m</td>\n",
       "      <td>54</td>\n",
       "      <td>2002</td>\n",
       "      <td>2002.0</td>\n",
       "      <td>nodeploy</td>\n",
       "      <td>driver</td>\n",
       "      <td>2.0</td>\n",
       "    </tr>\n",
       "    <tr>\n",
       "      <th>11214</th>\n",
       "      <td>10-24</td>\n",
       "      <td>10.474</td>\n",
       "      <td>survived</td>\n",
       "      <td>belted</td>\n",
       "      <td>1</td>\n",
       "      <td>f</td>\n",
       "      <td>27</td>\n",
       "      <td>2002</td>\n",
       "      <td>1990.0</td>\n",
       "      <td>deploy</td>\n",
       "      <td>driver</td>\n",
       "      <td>3.0</td>\n",
       "    </tr>\n",
       "    <tr>\n",
       "      <th>11215</th>\n",
       "      <td>25-39</td>\n",
       "      <td>10.474</td>\n",
       "      <td>survived</td>\n",
       "      <td>belted</td>\n",
       "      <td>1</td>\n",
       "      <td>f</td>\n",
       "      <td>18</td>\n",
       "      <td>2002</td>\n",
       "      <td>1999.0</td>\n",
       "      <td>deploy</td>\n",
       "      <td>driver</td>\n",
       "      <td>0.0</td>\n",
       "    </tr>\n",
       "    <tr>\n",
       "      <th>11216</th>\n",
       "      <td>25-39</td>\n",
       "      <td>10.474</td>\n",
       "      <td>survived</td>\n",
       "      <td>belted</td>\n",
       "      <td>1</td>\n",
       "      <td>m</td>\n",
       "      <td>17</td>\n",
       "      <td>2002</td>\n",
       "      <td>1999.0</td>\n",
       "      <td>deploy</td>\n",
       "      <td>pass</td>\n",
       "      <td>0.0</td>\n",
       "    </tr>\n",
       "  </tbody>\n",
       "</table>\n",
       "<p>11217 rows × 12 columns</p>\n",
       "</div>"
      ],
      "text/plain": [
       "      impact_speeds    weight      Survived seatbelt  frontal sex  \\\n",
       "0               55+    27.078  Not_Survived     none        1   m   \n",
       "1             25-39    89.627  Not_Survived   belted        0   f   \n",
       "2               55+    27.078  Not_Survived   belted        1   m   \n",
       "3               55+    27.078  Not_Survived   belted        1   f   \n",
       "4               55+    13.374  Not_Survived     none        1   m   \n",
       "...             ...       ...           ...      ...      ...  ..   \n",
       "11212         25-39  3179.688      survived   belted        1   m   \n",
       "11213         10-24    71.228      survived   belted        1   m   \n",
       "11214         10-24    10.474      survived   belted        1   f   \n",
       "11215         25-39    10.474      survived   belted        1   f   \n",
       "11216         25-39    10.474      survived   belted        1   m   \n",
       "\n",
       "       age_of_occupant  year_of_accident  year_of_model airbag_deploy_type  \\\n",
       "0                   32              1997         1987.0            unavail   \n",
       "1                   54              1997         1994.0           nodeploy   \n",
       "2                   67              1997         1992.0            unavail   \n",
       "3                   64              1997         1992.0            unavail   \n",
       "4                   23              1997         1986.0            unavail   \n",
       "...                ...               ...            ...                ...   \n",
       "11212               17              2002         1985.0            unavail   \n",
       "11213               54              2002         2002.0           nodeploy   \n",
       "11214               27              2002         1990.0             deploy   \n",
       "11215               18              2002         1999.0             deploy   \n",
       "11216               17              2002         1999.0             deploy   \n",
       "\n",
       "      Occupant_role  injSeverity  \n",
       "0            driver          4.0  \n",
       "1            driver          4.0  \n",
       "2            driver          4.0  \n",
       "3              pass          4.0  \n",
       "4            driver          4.0  \n",
       "...             ...          ...  \n",
       "11212        driver          0.0  \n",
       "11213        driver          2.0  \n",
       "11214        driver          3.0  \n",
       "11215        driver          0.0  \n",
       "11216          pass          0.0  \n",
       "\n",
       "[11217 rows x 12 columns]"
      ]
     },
     "execution_count": 238,
     "metadata": {},
     "output_type": "execute_result"
    }
   ],
   "source": [
    "df"
   ]
  },
  {
   "cell_type": "markdown",
   "id": "60e67494",
   "metadata": {},
   "source": [
    "So now we are left with 12 features and 11217 observations for our study"
   ]
  },
  {
   "cell_type": "markdown",
   "id": "72e12953",
   "metadata": {},
   "source": [
    "**New feature creation:**\n",
    "    From the Year of accident and year of the vehicle model we can derive the age of the car before accident"
   ]
  },
  {
   "cell_type": "code",
   "execution_count": 239,
   "id": "cac2d6f6",
   "metadata": {},
   "outputs": [],
   "source": [
    "df['year_of_model'] =df['year_of_model'].astype('int64')\n",
    "df['car_service_years'] = df['year_of_accident']-df['year_of_model']"
   ]
  },
  {
   "cell_type": "code",
   "execution_count": 240,
   "id": "8ad85c25",
   "metadata": {},
   "outputs": [
    {
     "data": {
      "text/html": [
       "<div>\n",
       "<style scoped>\n",
       "    .dataframe tbody tr th:only-of-type {\n",
       "        vertical-align: middle;\n",
       "    }\n",
       "\n",
       "    .dataframe tbody tr th {\n",
       "        vertical-align: top;\n",
       "    }\n",
       "\n",
       "    .dataframe thead th {\n",
       "        text-align: right;\n",
       "    }\n",
       "</style>\n",
       "<table border=\"1\" class=\"dataframe\">\n",
       "  <thead>\n",
       "    <tr style=\"text-align: right;\">\n",
       "      <th></th>\n",
       "      <th>impact_speeds</th>\n",
       "      <th>weight</th>\n",
       "      <th>Survived</th>\n",
       "      <th>seatbelt</th>\n",
       "      <th>frontal</th>\n",
       "      <th>sex</th>\n",
       "      <th>age_of_occupant</th>\n",
       "      <th>year_of_accident</th>\n",
       "      <th>year_of_model</th>\n",
       "      <th>airbag_deploy_type</th>\n",
       "      <th>Occupant_role</th>\n",
       "      <th>injSeverity</th>\n",
       "      <th>car_service_years</th>\n",
       "    </tr>\n",
       "  </thead>\n",
       "  <tbody>\n",
       "    <tr>\n",
       "      <th>0</th>\n",
       "      <td>55+</td>\n",
       "      <td>27.078</td>\n",
       "      <td>Not_Survived</td>\n",
       "      <td>none</td>\n",
       "      <td>1</td>\n",
       "      <td>m</td>\n",
       "      <td>32</td>\n",
       "      <td>1997</td>\n",
       "      <td>1987</td>\n",
       "      <td>unavail</td>\n",
       "      <td>driver</td>\n",
       "      <td>4.0</td>\n",
       "      <td>10</td>\n",
       "    </tr>\n",
       "    <tr>\n",
       "      <th>1</th>\n",
       "      <td>25-39</td>\n",
       "      <td>89.627</td>\n",
       "      <td>Not_Survived</td>\n",
       "      <td>belted</td>\n",
       "      <td>0</td>\n",
       "      <td>f</td>\n",
       "      <td>54</td>\n",
       "      <td>1997</td>\n",
       "      <td>1994</td>\n",
       "      <td>nodeploy</td>\n",
       "      <td>driver</td>\n",
       "      <td>4.0</td>\n",
       "      <td>3</td>\n",
       "    </tr>\n",
       "    <tr>\n",
       "      <th>2</th>\n",
       "      <td>55+</td>\n",
       "      <td>27.078</td>\n",
       "      <td>Not_Survived</td>\n",
       "      <td>belted</td>\n",
       "      <td>1</td>\n",
       "      <td>m</td>\n",
       "      <td>67</td>\n",
       "      <td>1997</td>\n",
       "      <td>1992</td>\n",
       "      <td>unavail</td>\n",
       "      <td>driver</td>\n",
       "      <td>4.0</td>\n",
       "      <td>5</td>\n",
       "    </tr>\n",
       "    <tr>\n",
       "      <th>3</th>\n",
       "      <td>55+</td>\n",
       "      <td>27.078</td>\n",
       "      <td>Not_Survived</td>\n",
       "      <td>belted</td>\n",
       "      <td>1</td>\n",
       "      <td>f</td>\n",
       "      <td>64</td>\n",
       "      <td>1997</td>\n",
       "      <td>1992</td>\n",
       "      <td>unavail</td>\n",
       "      <td>pass</td>\n",
       "      <td>4.0</td>\n",
       "      <td>5</td>\n",
       "    </tr>\n",
       "    <tr>\n",
       "      <th>4</th>\n",
       "      <td>55+</td>\n",
       "      <td>13.374</td>\n",
       "      <td>Not_Survived</td>\n",
       "      <td>none</td>\n",
       "      <td>1</td>\n",
       "      <td>m</td>\n",
       "      <td>23</td>\n",
       "      <td>1997</td>\n",
       "      <td>1986</td>\n",
       "      <td>unavail</td>\n",
       "      <td>driver</td>\n",
       "      <td>4.0</td>\n",
       "      <td>11</td>\n",
       "    </tr>\n",
       "  </tbody>\n",
       "</table>\n",
       "</div>"
      ],
      "text/plain": [
       "  impact_speeds  weight      Survived seatbelt  frontal sex  age_of_occupant  \\\n",
       "0           55+  27.078  Not_Survived     none        1   m               32   \n",
       "1         25-39  89.627  Not_Survived   belted        0   f               54   \n",
       "2           55+  27.078  Not_Survived   belted        1   m               67   \n",
       "3           55+  27.078  Not_Survived   belted        1   f               64   \n",
       "4           55+  13.374  Not_Survived     none        1   m               23   \n",
       "\n",
       "   year_of_accident  year_of_model airbag_deploy_type Occupant_role  \\\n",
       "0              1997           1987            unavail        driver   \n",
       "1              1997           1994           nodeploy        driver   \n",
       "2              1997           1992            unavail        driver   \n",
       "3              1997           1992            unavail          pass   \n",
       "4              1997           1986            unavail        driver   \n",
       "\n",
       "   injSeverity  car_service_years  \n",
       "0          4.0                 10  \n",
       "1          4.0                  3  \n",
       "2          4.0                  5  \n",
       "3          4.0                  5  \n",
       "4          4.0                 11  "
      ]
     },
     "execution_count": 240,
     "metadata": {},
     "output_type": "execute_result"
    }
   ],
   "source": [
    "df.head()"
   ]
  },
  {
   "cell_type": "markdown",
   "id": "c9bf440b",
   "metadata": {},
   "source": [
    "**Now we can drop Year_of_accident and year_of_model from the dataset**"
   ]
  },
  {
   "cell_type": "code",
   "execution_count": 241,
   "id": "0e2ceb23",
   "metadata": {},
   "outputs": [],
   "source": [
    "df.drop(['year_of_accident','year_of_model'],axis=1,inplace=True)"
   ]
  },
  {
   "cell_type": "code",
   "execution_count": 242,
   "id": "c7457c5f",
   "metadata": {},
   "outputs": [
    {
     "data": {
      "text/html": [
       "<div>\n",
       "<style scoped>\n",
       "    .dataframe tbody tr th:only-of-type {\n",
       "        vertical-align: middle;\n",
       "    }\n",
       "\n",
       "    .dataframe tbody tr th {\n",
       "        vertical-align: top;\n",
       "    }\n",
       "\n",
       "    .dataframe thead th {\n",
       "        text-align: right;\n",
       "    }\n",
       "</style>\n",
       "<table border=\"1\" class=\"dataframe\">\n",
       "  <thead>\n",
       "    <tr style=\"text-align: right;\">\n",
       "      <th></th>\n",
       "      <th>impact_speeds</th>\n",
       "      <th>weight</th>\n",
       "      <th>Survived</th>\n",
       "      <th>seatbelt</th>\n",
       "      <th>frontal</th>\n",
       "      <th>sex</th>\n",
       "      <th>age_of_occupant</th>\n",
       "      <th>airbag_deploy_type</th>\n",
       "      <th>Occupant_role</th>\n",
       "      <th>injSeverity</th>\n",
       "      <th>car_service_years</th>\n",
       "    </tr>\n",
       "  </thead>\n",
       "  <tbody>\n",
       "    <tr>\n",
       "      <th>0</th>\n",
       "      <td>55+</td>\n",
       "      <td>27.078</td>\n",
       "      <td>Not_Survived</td>\n",
       "      <td>none</td>\n",
       "      <td>1</td>\n",
       "      <td>m</td>\n",
       "      <td>32</td>\n",
       "      <td>unavail</td>\n",
       "      <td>driver</td>\n",
       "      <td>4.0</td>\n",
       "      <td>10</td>\n",
       "    </tr>\n",
       "    <tr>\n",
       "      <th>1</th>\n",
       "      <td>25-39</td>\n",
       "      <td>89.627</td>\n",
       "      <td>Not_Survived</td>\n",
       "      <td>belted</td>\n",
       "      <td>0</td>\n",
       "      <td>f</td>\n",
       "      <td>54</td>\n",
       "      <td>nodeploy</td>\n",
       "      <td>driver</td>\n",
       "      <td>4.0</td>\n",
       "      <td>3</td>\n",
       "    </tr>\n",
       "    <tr>\n",
       "      <th>2</th>\n",
       "      <td>55+</td>\n",
       "      <td>27.078</td>\n",
       "      <td>Not_Survived</td>\n",
       "      <td>belted</td>\n",
       "      <td>1</td>\n",
       "      <td>m</td>\n",
       "      <td>67</td>\n",
       "      <td>unavail</td>\n",
       "      <td>driver</td>\n",
       "      <td>4.0</td>\n",
       "      <td>5</td>\n",
       "    </tr>\n",
       "    <tr>\n",
       "      <th>3</th>\n",
       "      <td>55+</td>\n",
       "      <td>27.078</td>\n",
       "      <td>Not_Survived</td>\n",
       "      <td>belted</td>\n",
       "      <td>1</td>\n",
       "      <td>f</td>\n",
       "      <td>64</td>\n",
       "      <td>unavail</td>\n",
       "      <td>pass</td>\n",
       "      <td>4.0</td>\n",
       "      <td>5</td>\n",
       "    </tr>\n",
       "    <tr>\n",
       "      <th>4</th>\n",
       "      <td>55+</td>\n",
       "      <td>13.374</td>\n",
       "      <td>Not_Survived</td>\n",
       "      <td>none</td>\n",
       "      <td>1</td>\n",
       "      <td>m</td>\n",
       "      <td>23</td>\n",
       "      <td>unavail</td>\n",
       "      <td>driver</td>\n",
       "      <td>4.0</td>\n",
       "      <td>11</td>\n",
       "    </tr>\n",
       "    <tr>\n",
       "      <th>...</th>\n",
       "      <td>...</td>\n",
       "      <td>...</td>\n",
       "      <td>...</td>\n",
       "      <td>...</td>\n",
       "      <td>...</td>\n",
       "      <td>...</td>\n",
       "      <td>...</td>\n",
       "      <td>...</td>\n",
       "      <td>...</td>\n",
       "      <td>...</td>\n",
       "      <td>...</td>\n",
       "    </tr>\n",
       "    <tr>\n",
       "      <th>11212</th>\n",
       "      <td>25-39</td>\n",
       "      <td>3179.688</td>\n",
       "      <td>survived</td>\n",
       "      <td>belted</td>\n",
       "      <td>1</td>\n",
       "      <td>m</td>\n",
       "      <td>17</td>\n",
       "      <td>unavail</td>\n",
       "      <td>driver</td>\n",
       "      <td>0.0</td>\n",
       "      <td>17</td>\n",
       "    </tr>\n",
       "    <tr>\n",
       "      <th>11213</th>\n",
       "      <td>10-24</td>\n",
       "      <td>71.228</td>\n",
       "      <td>survived</td>\n",
       "      <td>belted</td>\n",
       "      <td>1</td>\n",
       "      <td>m</td>\n",
       "      <td>54</td>\n",
       "      <td>nodeploy</td>\n",
       "      <td>driver</td>\n",
       "      <td>2.0</td>\n",
       "      <td>0</td>\n",
       "    </tr>\n",
       "    <tr>\n",
       "      <th>11214</th>\n",
       "      <td>10-24</td>\n",
       "      <td>10.474</td>\n",
       "      <td>survived</td>\n",
       "      <td>belted</td>\n",
       "      <td>1</td>\n",
       "      <td>f</td>\n",
       "      <td>27</td>\n",
       "      <td>deploy</td>\n",
       "      <td>driver</td>\n",
       "      <td>3.0</td>\n",
       "      <td>12</td>\n",
       "    </tr>\n",
       "    <tr>\n",
       "      <th>11215</th>\n",
       "      <td>25-39</td>\n",
       "      <td>10.474</td>\n",
       "      <td>survived</td>\n",
       "      <td>belted</td>\n",
       "      <td>1</td>\n",
       "      <td>f</td>\n",
       "      <td>18</td>\n",
       "      <td>deploy</td>\n",
       "      <td>driver</td>\n",
       "      <td>0.0</td>\n",
       "      <td>3</td>\n",
       "    </tr>\n",
       "    <tr>\n",
       "      <th>11216</th>\n",
       "      <td>25-39</td>\n",
       "      <td>10.474</td>\n",
       "      <td>survived</td>\n",
       "      <td>belted</td>\n",
       "      <td>1</td>\n",
       "      <td>m</td>\n",
       "      <td>17</td>\n",
       "      <td>deploy</td>\n",
       "      <td>pass</td>\n",
       "      <td>0.0</td>\n",
       "      <td>3</td>\n",
       "    </tr>\n",
       "  </tbody>\n",
       "</table>\n",
       "<p>11217 rows × 11 columns</p>\n",
       "</div>"
      ],
      "text/plain": [
       "      impact_speeds    weight      Survived seatbelt  frontal sex  \\\n",
       "0               55+    27.078  Not_Survived     none        1   m   \n",
       "1             25-39    89.627  Not_Survived   belted        0   f   \n",
       "2               55+    27.078  Not_Survived   belted        1   m   \n",
       "3               55+    27.078  Not_Survived   belted        1   f   \n",
       "4               55+    13.374  Not_Survived     none        1   m   \n",
       "...             ...       ...           ...      ...      ...  ..   \n",
       "11212         25-39  3179.688      survived   belted        1   m   \n",
       "11213         10-24    71.228      survived   belted        1   m   \n",
       "11214         10-24    10.474      survived   belted        1   f   \n",
       "11215         25-39    10.474      survived   belted        1   f   \n",
       "11216         25-39    10.474      survived   belted        1   m   \n",
       "\n",
       "       age_of_occupant airbag_deploy_type Occupant_role  injSeverity  \\\n",
       "0                   32            unavail        driver          4.0   \n",
       "1                   54           nodeploy        driver          4.0   \n",
       "2                   67            unavail        driver          4.0   \n",
       "3                   64            unavail          pass          4.0   \n",
       "4                   23            unavail        driver          4.0   \n",
       "...                ...                ...           ...          ...   \n",
       "11212               17            unavail        driver          0.0   \n",
       "11213               54           nodeploy        driver          2.0   \n",
       "11214               27             deploy        driver          3.0   \n",
       "11215               18             deploy        driver          0.0   \n",
       "11216               17             deploy          pass          0.0   \n",
       "\n",
       "       car_service_years  \n",
       "0                     10  \n",
       "1                      3  \n",
       "2                      5  \n",
       "3                      5  \n",
       "4                     11  \n",
       "...                  ...  \n",
       "11212                 17  \n",
       "11213                  0  \n",
       "11214                 12  \n",
       "11215                  3  \n",
       "11216                  3  \n",
       "\n",
       "[11217 rows x 11 columns]"
      ]
     },
     "execution_count": 242,
     "metadata": {},
     "output_type": "execute_result"
    }
   ],
   "source": [
    "df"
   ]
  },
  {
   "cell_type": "markdown",
   "id": "d183bb6c",
   "metadata": {},
   "source": [
    "### Check for missing values:"
   ]
  },
  {
   "cell_type": "code",
   "execution_count": 243,
   "id": "ecca328d",
   "metadata": {},
   "outputs": [
    {
     "data": {
      "text/plain": [
       "impact_speeds          0\n",
       "weight                 0\n",
       "Survived               0\n",
       "seatbelt               0\n",
       "frontal                0\n",
       "sex                    0\n",
       "age_of_occupant        0\n",
       "airbag_deploy_type     0\n",
       "Occupant_role          0\n",
       "injSeverity           77\n",
       "car_service_years      0\n",
       "dtype: int64"
      ]
     },
     "execution_count": 243,
     "metadata": {},
     "output_type": "execute_result"
    }
   ],
   "source": [
    "df.isnull().sum()"
   ]
  },
  {
   "cell_type": "code",
   "execution_count": 244,
   "id": "50380bfe",
   "metadata": {},
   "outputs": [
    {
     "data": {
      "text/plain": [
       "0.6864580547383435"
      ]
     },
     "execution_count": 244,
     "metadata": {},
     "output_type": "execute_result"
    }
   ],
   "source": [
    "77/11217*100"
   ]
  },
  {
   "cell_type": "markdown",
   "id": "ee4cfabe",
   "metadata": {},
   "source": [
    "* We will impute the null values with mode since it is a category"
   ]
  },
  {
   "cell_type": "code",
   "execution_count": 245,
   "id": "1a5c51ab",
   "metadata": {},
   "outputs": [],
   "source": [
    "mode = df['injSeverity'].mode()"
   ]
  },
  {
   "cell_type": "code",
   "execution_count": 246,
   "id": "5bde4454",
   "metadata": {},
   "outputs": [
    {
     "data": {
      "text/plain": [
       "3.0"
      ]
     },
     "execution_count": 246,
     "metadata": {},
     "output_type": "execute_result"
    }
   ],
   "source": [
    "mode[0]"
   ]
  },
  {
   "cell_type": "code",
   "execution_count": 247,
   "id": "f3810ba6",
   "metadata": {},
   "outputs": [],
   "source": [
    "df['injSeverity'] = df['injSeverity'].fillna(mode[0])"
   ]
  },
  {
   "cell_type": "code",
   "execution_count": 248,
   "id": "b1c0291b",
   "metadata": {},
   "outputs": [
    {
     "data": {
      "text/plain": [
       "impact_speeds         0\n",
       "weight                0\n",
       "Survived              0\n",
       "seatbelt              0\n",
       "frontal               0\n",
       "sex                   0\n",
       "age_of_occupant       0\n",
       "airbag_deploy_type    0\n",
       "Occupant_role         0\n",
       "injSeverity           0\n",
       "car_service_years     0\n",
       "dtype: int64"
      ]
     },
     "execution_count": 248,
     "metadata": {},
     "output_type": "execute_result"
    }
   ],
   "source": [
    "df.isnull().sum()"
   ]
  },
  {
   "cell_type": "markdown",
   "id": "8261d23e",
   "metadata": {},
   "source": [
    "**Missing values are treated**"
   ]
  },
  {
   "cell_type": "markdown",
   "id": "430ea149",
   "metadata": {},
   "source": [
    "### Univariate analysis :"
   ]
  },
  {
   "cell_type": "code",
   "execution_count": 249,
   "id": "f26146fe",
   "metadata": {},
   "outputs": [],
   "source": [
    "df['frontal'] = pd.Categorical(df['frontal'])"
   ]
  },
  {
   "cell_type": "code",
   "execution_count": 250,
   "id": "3cc3c2eb",
   "metadata": {},
   "outputs": [],
   "source": [
    "df['injSeverity'] = pd.Categorical(df['injSeverity'])"
   ]
  },
  {
   "cell_type": "code",
   "execution_count": 251,
   "id": "83d8ea38",
   "metadata": {},
   "outputs": [
    {
     "data": {
      "text/plain": [
       "impact_speeds           object\n",
       "weight                 float64\n",
       "Survived                object\n",
       "seatbelt                object\n",
       "frontal               category\n",
       "sex                     object\n",
       "age_of_occupant          int64\n",
       "airbag_deploy_type      object\n",
       "Occupant_role           object\n",
       "injSeverity           category\n",
       "car_service_years        int64\n",
       "dtype: object"
      ]
     },
     "execution_count": 251,
     "metadata": {},
     "output_type": "execute_result"
    }
   ],
   "source": [
    "df.dtypes"
   ]
  },
  {
   "cell_type": "code",
   "execution_count": 252,
   "id": "b52f0059",
   "metadata": {},
   "outputs": [],
   "source": [
    "#Lets separate the numeric and categorical variables to create visualizatons\n",
    "df_categorical = [feature for feature in df.columns if df[feature].dtype not in ['int64','float64']]"
   ]
  },
  {
   "cell_type": "code",
   "execution_count": 253,
   "id": "8578e3ac",
   "metadata": {},
   "outputs": [],
   "source": [
    "df_num = ['weight','age_of_occupant','car_service_years']"
   ]
  },
  {
   "cell_type": "code",
   "execution_count": 254,
   "id": "3af3b415",
   "metadata": {},
   "outputs": [
    {
     "data": {
      "text/plain": [
       "['weight', 'age_of_occupant', 'car_service_years']"
      ]
     },
     "execution_count": 254,
     "metadata": {},
     "output_type": "execute_result"
    }
   ],
   "source": [
    "df_num"
   ]
  },
  {
   "cell_type": "code",
   "execution_count": 255,
   "id": "d86eeb5c",
   "metadata": {},
   "outputs": [
    {
     "data": {
      "text/plain": [
       "['impact_speeds',\n",
       " 'Survived',\n",
       " 'seatbelt',\n",
       " 'frontal',\n",
       " 'sex',\n",
       " 'airbag_deploy_type',\n",
       " 'Occupant_role',\n",
       " 'injSeverity']"
      ]
     },
     "execution_count": 255,
     "metadata": {},
     "output_type": "execute_result"
    }
   ],
   "source": [
    "df_categorical"
   ]
  },
  {
   "cell_type": "markdown",
   "id": "6fe7d0e4",
   "metadata": {},
   "source": [
    "### Visualizing the continuous variables:"
   ]
  },
  {
   "cell_type": "markdown",
   "id": "2aaf8882",
   "metadata": {},
   "source": [
    "Histogram:"
   ]
  },
  {
   "cell_type": "code",
   "execution_count": 256,
   "id": "f05e1970",
   "metadata": {
    "scrolled": false
   },
   "outputs": [
    {
     "data": {
      "image/png": "[encoded data removed]",
      "text/plain": [
       "<Figure size 504x360 with 1 Axes>"
      ]
     },
     "metadata": {
      "needs_background": "light"
     },
     "output_type": "display_data"
    },
    {
     "data": {
      "image/png": "[encoded data removed]",
      "text/plain": [
       "<Figure size 504x360 with 1 Axes>"
      ]
     },
     "metadata": {
      "needs_background": "light"
     },
     "output_type": "display_data"
    },
    {
     "data": {
      "image/png": "[encoded data removed]",
      "text/plain": [
       "<Figure size 504x360 with 1 Axes>"
      ]
     },
     "metadata": {
      "needs_background": "light"
     },
     "output_type": "display_data"
    }
   ],
   "source": [
    "for feature in df_num:\n",
    "    plt.figure(figsize=(7,5))\n",
    "    sns.histplot(df[feature],kde=True,color='blue') # hist plot to show distribution\n",
    "    plt.title(\"Distribution of the variable :\"+feature)\n",
    "    plt.show()"
   ]
  },
  {
   "cell_type": "markdown",
   "id": "cb2b94c1",
   "metadata": {},
   "source": [
    "Boxplot:"
   ]
  },
  {
   "cell_type": "code",
   "execution_count": 257,
   "id": "b04ff836",
   "metadata": {},
   "outputs": [
    {
     "data": {
      "image/png": "[encoded data removed]",
      "text/plain": [
       "<Figure size 504x360 with 1 Axes>"
      ]
     },
     "metadata": {
      "needs_background": "light"
     },
     "output_type": "display_data"
    },
    {
     "data": {
      "image/png": "[encoded data removed]",
      "text/plain": [
       "<Figure size 504x360 with 1 Axes>"
      ]
     },
     "metadata": {
      "needs_background": "light"
     },
     "output_type": "display_data"
    },
    {
     "data": {
      "image/png": "[encoded data removed]",
      "text/plain": [
       "<Figure size 504x360 with 1 Axes>"
      ]
     },
     "metadata": {
      "needs_background": "light"
     },
     "output_type": "display_data"
    }
   ],
   "source": [
    "for feature in df_num:\n",
    "    plt.figure(figsize=(7,5))\n",
    "    sns.boxplot(x=feature,data=df,color='blue') # boxplot to show the spread\n",
    "    plt.title(\"Boxplot of the variable :\"+feature)\n",
    "    plt.show()"
   ]
  },
  {
   "cell_type": "code",
   "execution_count": 258,
   "id": "fe21b3d8",
   "metadata": {},
   "outputs": [],
   "source": [
    "def remove_outlier(col):\n",
    "    sorted(col)\n",
    "    Q1,Q3=df[col].quantile([0.25,0.75])\n",
    "    IQR=Q3-Q1\n",
    "    lower_range= Q1-(1.5 * IQR)\n",
    "    upper_range= Q3+(1.5 * IQR)\n",
    "    return lower_range, upper_range "
   ]
  },
  {
   "cell_type": "code",
   "execution_count": 259,
   "id": "28b1bfd9",
   "metadata": {},
   "outputs": [],
   "source": [
    "# for loop to iterate through all the columns \n",
    "for feature in df_num:\n",
    "    lower_range , upper_range = remove_outlier(feature) \n",
    "    df[feature] = np.where(df[feature]<lower_range,lower_range,df[feature]) # flooring \n",
    "    df[feature] = np.where(df[feature]>upper_range,upper_range,df[feature]) # capping"
   ]
  },
  {
   "cell_type": "code",
   "execution_count": 260,
   "id": "a0bc6735",
   "metadata": {},
   "outputs": [
    {
     "data": {
      "image/png": "[encoded data removed]",
      "text/plain": [
       "<Figure size 504x360 with 1 Axes>"
      ]
     },
     "metadata": {
      "needs_background": "light"
     },
     "output_type": "display_data"
    },
    {
     "data": {
      "image/png": "[encoded data removed]",
      "text/plain": [
       "<Figure size 504x360 with 1 Axes>"
      ]
     },
     "metadata": {
      "needs_background": "light"
     },
     "output_type": "display_data"
    },
    {
     "data": {
      "image/png": "[encoded data removed]",
      "text/plain": [
       "<Figure size 504x360 with 1 Axes>"
      ]
     },
     "metadata": {
      "needs_background": "light"
     },
     "output_type": "display_data"
    }
   ],
   "source": [
    "for feature in df_num:\n",
    "    plt.figure(figsize=(7,5))\n",
    "    sns.boxplot(x=feature,data=df,color='blue') # boxplot to show the spread\n",
    "    plt.title(\"Boxplot of the variable :\"+feature)\n",
    "    plt.show()"
   ]
  },
  {
   "cell_type": "markdown",
   "id": "b9b2eb7a",
   "metadata": {},
   "source": [
    "**We have treated the outliers using flooring and capping method**"
   ]
  },
  {
   "cell_type": "markdown",
   "id": "04c0d000",
   "metadata": {},
   "source": [
    "### Categorical variables:"
   ]
  },
  {
   "cell_type": "code",
   "execution_count": 261,
   "id": "20e9dc75",
   "metadata": {},
   "outputs": [
    {
     "data": {
      "text/plain": [
       "survived        0.894803\n",
       "Not_Survived    0.105197\n",
       "Name: Survived, dtype: float64"
      ]
     },
     "execution_count": 261,
     "metadata": {},
     "output_type": "execute_result"
    }
   ],
   "source": [
    "df['Survived'].value_counts(normalize=True)"
   ]
  },
  {
   "cell_type": "markdown",
   "id": "52bc9dc1",
   "metadata": {},
   "source": [
    "* Our Target class is Not_Survived and 10.5% of the information is available for study\n",
    "*  Statistically the data seems is unbalanced"
   ]
  },
  {
   "cell_type": "code",
   "execution_count": 262,
   "id": "1d48b84f",
   "metadata": {
    "scrolled": true
   },
   "outputs": [
    {
     "data": {
      "image/png": "[encoded data removed]",
      "text/plain": [
       "<Figure size 432x288 with 1 Axes>"
      ]
     },
     "metadata": {
      "needs_background": "light"
     },
     "output_type": "display_data"
    }
   ],
   "source": [
    "sns.countplot(x='Survived',data=df);\n",
    "plt.title(\"Survival Count plot\")\n",
    "plt.show()"
   ]
  },
  {
   "cell_type": "code",
   "execution_count": 263,
   "id": "22b12f81",
   "metadata": {
    "scrolled": false
   },
   "outputs": [
    {
     "name": "stdout",
     "output_type": "stream",
     "text": [
      ".................................................................\n",
      "impact_speeds   1-9km/h     10-24     25-39     40-54       55+       All\n",
      "Survived                                                                 \n",
      "Not_Survived   0.000267  0.010163  0.027102  0.030668  0.036997  0.105197\n",
      "survived       0.024873  0.472497  0.273157  0.089150  0.035125  0.894803\n",
      "All            0.025140  0.482660  0.300259  0.119818  0.072123  1.000000\n",
      ".................................................................\n",
      ".................................................................\n",
      "Survived      Not_Survived  survived       All\n",
      "Survived                                      \n",
      "Not_Survived      0.105197  0.000000  0.105197\n",
      "survived          0.000000  0.894803  0.894803\n",
      "All               0.105197  0.894803  1.000000\n",
      ".................................................................\n",
      ".................................................................\n",
      "seatbelt        belted      none       All\n",
      "Survived                                  \n",
      "Not_Survived  0.044575  0.060622  0.105197\n",
      "survived      0.655166  0.239636  0.894803\n",
      "All           0.699741  0.300259  1.000000\n",
      ".................................................................\n",
      ".................................................................\n",
      "frontal              0         1       All\n",
      "Survived                                  \n",
      "Not_Survived  0.053312  0.051886  0.105197\n",
      "survived      0.302666  0.592137  0.894803\n",
      "All           0.355978  0.644022  1.000000\n",
      ".................................................................\n",
      ".................................................................\n",
      "sex                  f         m       All\n",
      "Survived                                  \n",
      "Not_Survived  0.041366  0.063832  0.105197\n",
      "survived      0.419453  0.475350  0.894803\n",
      "All           0.460818  0.539182  1.000000\n",
      ".................................................................\n",
      ".................................................................\n",
      "airbag_deploy_type    deploy  nodeploy   unavail       All\n",
      "Survived                                                  \n",
      "Not_Survived        0.032807  0.012749  0.059642  0.105197\n",
      "survived            0.356334  0.227868  0.310600  0.894803\n",
      "All                 0.389141  0.240617  0.370242  1.000000\n",
      ".................................................................\n",
      ".................................................................\n",
      "Occupant_role    driver      pass       All\n",
      "Survived                                   \n",
      "Not_Survived   0.079433  0.025764  0.105197\n",
      "survived       0.703842  0.190960  0.894803\n",
      "All            0.783275  0.216725  1.000000\n",
      ".................................................................\n",
      ".................................................................\n",
      "injSeverity        0.0       1.0       2.0       3.0       4.0       5.0  \\\n",
      "Survived                                                                   \n",
      "Not_Survived  0.000000  0.000089  0.000624  0.007756  0.096639  0.000089   \n",
      "survived      0.243737  0.197646  0.149327  0.296603  0.001516  0.005973   \n",
      "All           0.243737  0.197736  0.149951  0.304359  0.098155  0.006062   \n",
      "\n",
      "injSeverity        All  \n",
      "Survived                \n",
      "Not_Survived  0.105197  \n",
      "survived      0.894803  \n",
      "All           1.000000  \n",
      ".................................................................\n"
     ]
    }
   ],
   "source": [
    "for feature in df_categorical:\n",
    "    print(\".................................................................\")\n",
    "    print(pd.crosstab(df['Survived'],df[feature],normalize=True,margins=True))\n",
    "    print(\".................................................................\")"
   ]
  },
  {
   "cell_type": "code",
   "execution_count": 264,
   "id": "e7f01d7f",
   "metadata": {},
   "outputs": [
    {
     "data": {
      "text/plain": [
       "['impact_speeds',\n",
       " 'Survived',\n",
       " 'seatbelt',\n",
       " 'frontal',\n",
       " 'sex',\n",
       " 'airbag_deploy_type',\n",
       " 'Occupant_role',\n",
       " 'injSeverity']"
      ]
     },
     "execution_count": 264,
     "metadata": {},
     "output_type": "execute_result"
    }
   ],
   "source": [
    "df_categorical"
   ]
  },
  {
   "cell_type": "code",
   "execution_count": 265,
   "id": "81d554e0",
   "metadata": {
    "scrolled": false
   },
   "outputs": [
    {
     "data": {
      "image/png": "[encoded data removed]",
      "text/plain": [
       "<Figure size 432x288 with 1 Axes>"
      ]
     },
     "metadata": {
      "needs_background": "light"
     },
     "output_type": "display_data"
    },
    {
     "data": {
      "image/png": "[encoded data removed]",
      "text/plain": [
       "<Figure size 432x288 with 1 Axes>"
      ]
     },
     "metadata": {
      "needs_background": "light"
     },
     "output_type": "display_data"
    },
    {
     "data": {
      "image/png": "[encoded data removed]",
      "text/plain": [
       "<Figure size 432x288 with 1 Axes>"
      ]
     },
     "metadata": {
      "needs_background": "light"
     },
     "output_type": "display_data"
    },
    {
     "data": {
      "image/png": "[encoded data removed]",
      "text/plain": [
       "<Figure size 432x288 with 1 Axes>"
      ]
     },
     "metadata": {
      "needs_background": "light"
     },
     "output_type": "display_data"
    },
    {
     "data": {
      "image/png": "[encoded data removed]",
      "text/plain": [
       "<Figure size 432x288 with 1 Axes>"
      ]
     },
     "metadata": {
      "needs_background": "light"
     },
     "output_type": "display_data"
    },
    {
     "data": {
      "image/png": "[encoded data removed]",
      "text/plain": [
       "<Figure size 432x288 with 1 Axes>"
      ]
     },
     "metadata": {
      "needs_background": "light"
     },
     "output_type": "display_data"
    },
    {
     "data": {
      "image/png": "[encoded data removed]",
      "text/plain": [
       "<Figure size 432x288 with 1 Axes>"
      ]
     },
     "metadata": {
      "needs_background": "light"
     },
     "output_type": "display_data"
    },
    {
     "data": {
      "image/png": "[encoded data removed]",
      "text/plain": [
       "<Figure size 432x288 with 1 Axes>"
      ]
     },
     "metadata": {
      "needs_background": "light"
     },
     "output_type": "display_data"
    }
   ],
   "source": [
    "for feature in df_categorical:\n",
    "    sns.countplot(x=df[feature],data=df);\n",
    "    plt.title(\"Count Plot for : \" + feature)\n",
    "    plt.show()\n",
    "    "
   ]
  },
  {
   "cell_type": "markdown",
   "id": "9431628e",
   "metadata": {},
   "source": [
    "### Bivariate analysis:"
   ]
  },
  {
   "cell_type": "code",
   "execution_count": 266,
   "id": "9d303131",
   "metadata": {
    "scrolled": false
   },
   "outputs": [
    {
     "data": {
      "image/png": "[encoded data removed]",
      "text/plain": [
       "<Figure size 432x288 with 1 Axes>"
      ]
     },
     "metadata": {
      "needs_background": "light"
     },
     "output_type": "display_data"
    },
    {
     "data": {
      "image/png": "[encoded data removed]",
      "text/plain": [
       "<Figure size 432x288 with 1 Axes>"
      ]
     },
     "metadata": {
      "needs_background": "light"
     },
     "output_type": "display_data"
    },
    {
     "data": {
      "image/png": "[encoded data removed]",
      "text/plain": [
       "<Figure size 432x288 with 1 Axes>"
      ]
     },
     "metadata": {
      "needs_background": "light"
     },
     "output_type": "display_data"
    },
    {
     "data": {
      "image/png": "[encoded data removed]",
      "text/plain": [
       "<Figure size 432x288 with 1 Axes>"
      ]
     },
     "metadata": {
      "needs_background": "light"
     },
     "output_type": "display_data"
    },
    {
     "data": {
      "image/png": "[encoded data removed]",
      "text/plain": [
       "<Figure size 432x288 with 1 Axes>"
      ]
     },
     "metadata": {
      "needs_background": "light"
     },
     "output_type": "display_data"
    },
    {
     "data": {
      "image/png": "[encoded data removed]",
      "text/plain": [
       "<Figure size 432x288 with 1 Axes>"
      ]
     },
     "metadata": {
      "needs_background": "light"
     },
     "output_type": "display_data"
    },
    {
     "data": {
      "image/png": "[encoded data removed]",
      "text/plain": [
       "<Figure size 432x288 with 1 Axes>"
      ]
     },
     "metadata": {
      "needs_background": "light"
     },
     "output_type": "display_data"
    }
   ],
   "source": [
    "bivariate_cat = ['impact_speeds','seatbelt', 'frontal', 'sex', 'airbag_deploy_type', 'Occupant_role', 'injSeverity']\n",
    "for feature in bivariate_cat:\n",
    "    sns.countplot(x=df[feature],data=df,hue='Survived',hue_order=['survived','Not_Survived']);\n",
    "    plt.title(\" Survived count in  : \" + feature)\n",
    "    plt.show()"
   ]
  },
  {
   "cell_type": "markdown",
   "id": "5bd5455e",
   "metadata": {},
   "source": [
    "### Encoding of Categorical variables:"
   ]
  },
  {
   "cell_type": "markdown",
   "id": "2244dc3e",
   "metadata": {},
   "source": [
    "* Categorical encoding is a process of converting categories to numbers.\n",
    "    The two most widely used techniques are \n",
    "    1. Label Encoding : In this technique, each label is assigned a unique integer based on alphabetical ordering.\n",
    "    2. One-Hot Encoding :It simply creates additional features based on the number of unique values in the categorical feature. Every unique value in the category will be added as a feature.\n",
    "    One-Hot Encoding is the process of creating dummy variables."
   ]
  },
  {
   "cell_type": "markdown",
   "id": "9817ed27",
   "metadata": {},
   "source": [
    "Encoding approach:\n",
    "\n",
    "impact_speeds , injseverity and airbag_deploy_type are ordinal variables \n",
    "\n",
    "remaining are nominal variables "
   ]
  },
  {
   "cell_type": "code",
   "execution_count": 267,
   "id": "92f682d3",
   "metadata": {},
   "outputs": [
    {
     "data": {
      "text/plain": [
       "['impact_speeds',\n",
       " 'Survived',\n",
       " 'seatbelt',\n",
       " 'frontal',\n",
       " 'sex',\n",
       " 'airbag_deploy_type',\n",
       " 'Occupant_role',\n",
       " 'injSeverity']"
      ]
     },
     "execution_count": 267,
     "metadata": {},
     "output_type": "execute_result"
    }
   ],
   "source": [
    "df_categorical"
   ]
  },
  {
   "cell_type": "code",
   "execution_count": 268,
   "id": "ceb5e280",
   "metadata": {},
   "outputs": [
    {
     "data": {
      "text/plain": [
       "array(['55+', '25-39', '10-24', '40-54', '1-9km/h'], dtype=object)"
      ]
     },
     "execution_count": 268,
     "metadata": {},
     "output_type": "execute_result"
    }
   ],
   "source": [
    "df['impact_speeds'].unique()"
   ]
  },
  {
   "cell_type": "code",
   "execution_count": 269,
   "id": "b29e06c9",
   "metadata": {},
   "outputs": [],
   "source": [
    "df['impact_speeds'] = np.where((df['impact_speeds']=='1-9km/h'),1,df['impact_speeds'])\n",
    "df['impact_speeds'] = np.where((df['impact_speeds']=='10-24'),2,df['impact_speeds'])\n",
    "df['impact_speeds'] = np.where((df['impact_speeds']=='25-39'),3,df['impact_speeds'])\n",
    "df['impact_speeds'] = np.where((df['impact_speeds']=='40-54'),4,df['impact_speeds'])\n",
    "df['impact_speeds'] = np.where((df['impact_speeds']=='55+'),5,df['impact_speeds'])"
   ]
  },
  {
   "cell_type": "code",
   "execution_count": 270,
   "id": "c71897a4",
   "metadata": {},
   "outputs": [],
   "source": [
    "df['Survived'] = np.where((df['Survived']=='Not_Survived'),1,0)"
   ]
  },
  {
   "cell_type": "code",
   "execution_count": 271,
   "id": "4acfeac0",
   "metadata": {},
   "outputs": [],
   "source": [
    "df['seatbelt'] = np.where((df['seatbelt']=='belted'),0,1)"
   ]
  },
  {
   "cell_type": "code",
   "execution_count": 272,
   "id": "2e35cde1",
   "metadata": {},
   "outputs": [],
   "source": [
    "df['airbag_deploy_type'] = np.where((df['airbag_deploy_type']=='unavail'),3,df['airbag_deploy_type'])\n",
    "df['airbag_deploy_type'] = np.where((df['airbag_deploy_type']=='nodeploy'),2,df['airbag_deploy_type'])\n",
    "df['airbag_deploy_type'] = np.where((df['airbag_deploy_type']=='deploy'),1,df['airbag_deploy_type'])"
   ]
  },
  {
   "cell_type": "code",
   "execution_count": 273,
   "id": "a97c848e",
   "metadata": {},
   "outputs": [],
   "source": [
    "# One Hot encodig \n",
    "df= pd.get_dummies(df,columns = ['sex','Occupant_role'],drop_first=True)"
   ]
  },
  {
   "cell_type": "code",
   "execution_count": 274,
   "id": "00a10283",
   "metadata": {},
   "outputs": [
    {
     "data": {
      "text/html": [
       "<div>\n",
       "<style scoped>\n",
       "    .dataframe tbody tr th:only-of-type {\n",
       "        vertical-align: middle;\n",
       "    }\n",
       "\n",
       "    .dataframe tbody tr th {\n",
       "        vertical-align: top;\n",
       "    }\n",
       "\n",
       "    .dataframe thead th {\n",
       "        text-align: right;\n",
       "    }\n",
       "</style>\n",
       "<table border=\"1\" class=\"dataframe\">\n",
       "  <thead>\n",
       "    <tr style=\"text-align: right;\">\n",
       "      <th></th>\n",
       "      <th>impact_speeds</th>\n",
       "      <th>weight</th>\n",
       "      <th>Survived</th>\n",
       "      <th>seatbelt</th>\n",
       "      <th>frontal</th>\n",
       "      <th>age_of_occupant</th>\n",
       "      <th>airbag_deploy_type</th>\n",
       "      <th>injSeverity</th>\n",
       "      <th>car_service_years</th>\n",
       "      <th>sex_m</th>\n",
       "      <th>Occupant_role_pass</th>\n",
       "    </tr>\n",
       "  </thead>\n",
       "  <tbody>\n",
       "    <tr>\n",
       "      <th>0</th>\n",
       "      <td>5</td>\n",
       "      <td>27.078</td>\n",
       "      <td>1</td>\n",
       "      <td>1</td>\n",
       "      <td>1</td>\n",
       "      <td>32.0</td>\n",
       "      <td>3</td>\n",
       "      <td>4.0</td>\n",
       "      <td>10.0</td>\n",
       "      <td>1</td>\n",
       "      <td>0</td>\n",
       "    </tr>\n",
       "    <tr>\n",
       "      <th>1</th>\n",
       "      <td>3</td>\n",
       "      <td>89.627</td>\n",
       "      <td>1</td>\n",
       "      <td>0</td>\n",
       "      <td>0</td>\n",
       "      <td>54.0</td>\n",
       "      <td>2</td>\n",
       "      <td>4.0</td>\n",
       "      <td>3.0</td>\n",
       "      <td>0</td>\n",
       "      <td>0</td>\n",
       "    </tr>\n",
       "    <tr>\n",
       "      <th>2</th>\n",
       "      <td>5</td>\n",
       "      <td>27.078</td>\n",
       "      <td>1</td>\n",
       "      <td>0</td>\n",
       "      <td>1</td>\n",
       "      <td>67.0</td>\n",
       "      <td>3</td>\n",
       "      <td>4.0</td>\n",
       "      <td>5.0</td>\n",
       "      <td>1</td>\n",
       "      <td>0</td>\n",
       "    </tr>\n",
       "    <tr>\n",
       "      <th>3</th>\n",
       "      <td>5</td>\n",
       "      <td>27.078</td>\n",
       "      <td>1</td>\n",
       "      <td>0</td>\n",
       "      <td>1</td>\n",
       "      <td>64.0</td>\n",
       "      <td>3</td>\n",
       "      <td>4.0</td>\n",
       "      <td>5.0</td>\n",
       "      <td>0</td>\n",
       "      <td>1</td>\n",
       "    </tr>\n",
       "    <tr>\n",
       "      <th>4</th>\n",
       "      <td>5</td>\n",
       "      <td>13.374</td>\n",
       "      <td>1</td>\n",
       "      <td>1</td>\n",
       "      <td>1</td>\n",
       "      <td>23.0</td>\n",
       "      <td>3</td>\n",
       "      <td>4.0</td>\n",
       "      <td>11.0</td>\n",
       "      <td>1</td>\n",
       "      <td>0</td>\n",
       "    </tr>\n",
       "    <tr>\n",
       "      <th>...</th>\n",
       "      <td>...</td>\n",
       "      <td>...</td>\n",
       "      <td>...</td>\n",
       "      <td>...</td>\n",
       "      <td>...</td>\n",
       "      <td>...</td>\n",
       "      <td>...</td>\n",
       "      <td>...</td>\n",
       "      <td>...</td>\n",
       "      <td>...</td>\n",
       "      <td>...</td>\n",
       "    </tr>\n",
       "    <tr>\n",
       "      <th>11212</th>\n",
       "      <td>3</td>\n",
       "      <td>767.702</td>\n",
       "      <td>0</td>\n",
       "      <td>0</td>\n",
       "      <td>1</td>\n",
       "      <td>17.0</td>\n",
       "      <td>3</td>\n",
       "      <td>0.0</td>\n",
       "      <td>17.0</td>\n",
       "      <td>1</td>\n",
       "      <td>0</td>\n",
       "    </tr>\n",
       "    <tr>\n",
       "      <th>11213</th>\n",
       "      <td>2</td>\n",
       "      <td>71.228</td>\n",
       "      <td>0</td>\n",
       "      <td>0</td>\n",
       "      <td>1</td>\n",
       "      <td>54.0</td>\n",
       "      <td>2</td>\n",
       "      <td>2.0</td>\n",
       "      <td>0.0</td>\n",
       "      <td>1</td>\n",
       "      <td>0</td>\n",
       "    </tr>\n",
       "    <tr>\n",
       "      <th>11214</th>\n",
       "      <td>2</td>\n",
       "      <td>10.474</td>\n",
       "      <td>0</td>\n",
       "      <td>0</td>\n",
       "      <td>1</td>\n",
       "      <td>27.0</td>\n",
       "      <td>1</td>\n",
       "      <td>3.0</td>\n",
       "      <td>12.0</td>\n",
       "      <td>0</td>\n",
       "      <td>0</td>\n",
       "    </tr>\n",
       "    <tr>\n",
       "      <th>11215</th>\n",
       "      <td>3</td>\n",
       "      <td>10.474</td>\n",
       "      <td>0</td>\n",
       "      <td>0</td>\n",
       "      <td>1</td>\n",
       "      <td>18.0</td>\n",
       "      <td>1</td>\n",
       "      <td>0.0</td>\n",
       "      <td>3.0</td>\n",
       "      <td>0</td>\n",
       "      <td>0</td>\n",
       "    </tr>\n",
       "    <tr>\n",
       "      <th>11216</th>\n",
       "      <td>3</td>\n",
       "      <td>10.474</td>\n",
       "      <td>0</td>\n",
       "      <td>0</td>\n",
       "      <td>1</td>\n",
       "      <td>17.0</td>\n",
       "      <td>1</td>\n",
       "      <td>0.0</td>\n",
       "      <td>3.0</td>\n",
       "      <td>1</td>\n",
       "      <td>1</td>\n",
       "    </tr>\n",
       "  </tbody>\n",
       "</table>\n",
       "<p>11217 rows × 11 columns</p>\n",
       "</div>"
      ],
      "text/plain": [
       "      impact_speeds   weight  Survived  seatbelt frontal  age_of_occupant  \\\n",
       "0                 5   27.078         1         1       1             32.0   \n",
       "1                 3   89.627         1         0       0             54.0   \n",
       "2                 5   27.078         1         0       1             67.0   \n",
       "3                 5   27.078         1         0       1             64.0   \n",
       "4                 5   13.374         1         1       1             23.0   \n",
       "...             ...      ...       ...       ...     ...              ...   \n",
       "11212             3  767.702         0         0       1             17.0   \n",
       "11213             2   71.228         0         0       1             54.0   \n",
       "11214             2   10.474         0         0       1             27.0   \n",
       "11215             3   10.474         0         0       1             18.0   \n",
       "11216             3   10.474         0         0       1             17.0   \n",
       "\n",
       "      airbag_deploy_type injSeverity  car_service_years  sex_m  \\\n",
       "0                      3         4.0               10.0      1   \n",
       "1                      2         4.0                3.0      0   \n",
       "2                      3         4.0                5.0      1   \n",
       "3                      3         4.0                5.0      0   \n",
       "4                      3         4.0               11.0      1   \n",
       "...                  ...         ...                ...    ...   \n",
       "11212                  3         0.0               17.0      1   \n",
       "11213                  2         2.0                0.0      1   \n",
       "11214                  1         3.0               12.0      0   \n",
       "11215                  1         0.0                3.0      0   \n",
       "11216                  1         0.0                3.0      1   \n",
       "\n",
       "       Occupant_role_pass  \n",
       "0                       0  \n",
       "1                       0  \n",
       "2                       0  \n",
       "3                       1  \n",
       "4                       0  \n",
       "...                   ...  \n",
       "11212                   0  \n",
       "11213                   0  \n",
       "11214                   0  \n",
       "11215                   0  \n",
       "11216                   1  \n",
       "\n",
       "[11217 rows x 11 columns]"
      ]
     },
     "execution_count": 274,
     "metadata": {},
     "output_type": "execute_result"
    }
   ],
   "source": [
    "df"
   ]
  },
  {
   "cell_type": "markdown",
   "id": "57a073eb",
   "metadata": {},
   "source": [
    "### Scaling the Numeric Variable \n",
    "The numeric variables weith and age_ofthe_occupant and ageofthecar are at different magnitudes hence we do scale them before feeding to the model"
   ]
  },
  {
   "cell_type": "code",
   "execution_count": 275,
   "id": "03f954e5",
   "metadata": {},
   "outputs": [],
   "source": [
    "from sklearn.preprocessing import StandardScaler\n",
    "sc = StandardScaler()"
   ]
  },
  {
   "cell_type": "code",
   "execution_count": 276,
   "id": "2367fd45",
   "metadata": {},
   "outputs": [],
   "source": [
    "df['weight'] = (df['weight']-df['weight'].min())/(df['weight'].max()-df['weight'].min())"
   ]
  },
  {
   "cell_type": "code",
   "execution_count": 277,
   "id": "101187c6",
   "metadata": {},
   "outputs": [],
   "source": [
    "df['age_of_occupant'] = (df['age_of_occupant']-df['age_of_occupant'].min())/(df['age_of_occupant'].max()-df['age_of_occupant'].min())\n",
    "df['car_service_years'] = (df['car_service_years']-df['car_service_years'].min())/(df['car_service_years'].max()-df['car_service_years'].min())"
   ]
  },
  {
   "cell_type": "code",
   "execution_count": 278,
   "id": "9326d1aa",
   "metadata": {},
   "outputs": [
    {
     "data": {
      "text/html": [
       "<div>\n",
       "<style scoped>\n",
       "    .dataframe tbody tr th:only-of-type {\n",
       "        vertical-align: middle;\n",
       "    }\n",
       "\n",
       "    .dataframe tbody tr th {\n",
       "        vertical-align: top;\n",
       "    }\n",
       "\n",
       "    .dataframe thead th {\n",
       "        text-align: right;\n",
       "    }\n",
       "</style>\n",
       "<table border=\"1\" class=\"dataframe\">\n",
       "  <thead>\n",
       "    <tr style=\"text-align: right;\">\n",
       "      <th></th>\n",
       "      <th>impact_speeds</th>\n",
       "      <th>weight</th>\n",
       "      <th>Survived</th>\n",
       "      <th>seatbelt</th>\n",
       "      <th>frontal</th>\n",
       "      <th>age_of_occupant</th>\n",
       "      <th>airbag_deploy_type</th>\n",
       "      <th>injSeverity</th>\n",
       "      <th>car_service_years</th>\n",
       "      <th>sex_m</th>\n",
       "      <th>Occupant_role_pass</th>\n",
       "    </tr>\n",
       "  </thead>\n",
       "  <tbody>\n",
       "    <tr>\n",
       "      <th>0</th>\n",
       "      <td>5</td>\n",
       "      <td>0.035271</td>\n",
       "      <td>1</td>\n",
       "      <td>1</td>\n",
       "      <td>1</td>\n",
       "      <td>0.225352</td>\n",
       "      <td>3</td>\n",
       "      <td>4.0</td>\n",
       "      <td>0.478261</td>\n",
       "      <td>1</td>\n",
       "      <td>0</td>\n",
       "    </tr>\n",
       "    <tr>\n",
       "      <th>1</th>\n",
       "      <td>3</td>\n",
       "      <td>0.116747</td>\n",
       "      <td>1</td>\n",
       "      <td>0</td>\n",
       "      <td>0</td>\n",
       "      <td>0.535211</td>\n",
       "      <td>2</td>\n",
       "      <td>4.0</td>\n",
       "      <td>0.173913</td>\n",
       "      <td>0</td>\n",
       "      <td>0</td>\n",
       "    </tr>\n",
       "    <tr>\n",
       "      <th>2</th>\n",
       "      <td>5</td>\n",
       "      <td>0.035271</td>\n",
       "      <td>1</td>\n",
       "      <td>0</td>\n",
       "      <td>1</td>\n",
       "      <td>0.718310</td>\n",
       "      <td>3</td>\n",
       "      <td>4.0</td>\n",
       "      <td>0.260870</td>\n",
       "      <td>1</td>\n",
       "      <td>0</td>\n",
       "    </tr>\n",
       "    <tr>\n",
       "      <th>3</th>\n",
       "      <td>5</td>\n",
       "      <td>0.035271</td>\n",
       "      <td>1</td>\n",
       "      <td>0</td>\n",
       "      <td>1</td>\n",
       "      <td>0.676056</td>\n",
       "      <td>3</td>\n",
       "      <td>4.0</td>\n",
       "      <td>0.260870</td>\n",
       "      <td>0</td>\n",
       "      <td>1</td>\n",
       "    </tr>\n",
       "    <tr>\n",
       "      <th>4</th>\n",
       "      <td>5</td>\n",
       "      <td>0.017421</td>\n",
       "      <td>1</td>\n",
       "      <td>1</td>\n",
       "      <td>1</td>\n",
       "      <td>0.098592</td>\n",
       "      <td>3</td>\n",
       "      <td>4.0</td>\n",
       "      <td>0.521739</td>\n",
       "      <td>1</td>\n",
       "      <td>0</td>\n",
       "    </tr>\n",
       "    <tr>\n",
       "      <th>...</th>\n",
       "      <td>...</td>\n",
       "      <td>...</td>\n",
       "      <td>...</td>\n",
       "      <td>...</td>\n",
       "      <td>...</td>\n",
       "      <td>...</td>\n",
       "      <td>...</td>\n",
       "      <td>...</td>\n",
       "      <td>...</td>\n",
       "      <td>...</td>\n",
       "      <td>...</td>\n",
       "    </tr>\n",
       "    <tr>\n",
       "      <th>11212</th>\n",
       "      <td>3</td>\n",
       "      <td>1.000000</td>\n",
       "      <td>0</td>\n",
       "      <td>0</td>\n",
       "      <td>1</td>\n",
       "      <td>0.014085</td>\n",
       "      <td>3</td>\n",
       "      <td>0.0</td>\n",
       "      <td>0.782609</td>\n",
       "      <td>1</td>\n",
       "      <td>0</td>\n",
       "    </tr>\n",
       "    <tr>\n",
       "      <th>11213</th>\n",
       "      <td>2</td>\n",
       "      <td>0.092781</td>\n",
       "      <td>0</td>\n",
       "      <td>0</td>\n",
       "      <td>1</td>\n",
       "      <td>0.535211</td>\n",
       "      <td>2</td>\n",
       "      <td>2.0</td>\n",
       "      <td>0.043478</td>\n",
       "      <td>1</td>\n",
       "      <td>0</td>\n",
       "    </tr>\n",
       "    <tr>\n",
       "      <th>11214</th>\n",
       "      <td>2</td>\n",
       "      <td>0.013643</td>\n",
       "      <td>0</td>\n",
       "      <td>0</td>\n",
       "      <td>1</td>\n",
       "      <td>0.154930</td>\n",
       "      <td>1</td>\n",
       "      <td>3.0</td>\n",
       "      <td>0.565217</td>\n",
       "      <td>0</td>\n",
       "      <td>0</td>\n",
       "    </tr>\n",
       "    <tr>\n",
       "      <th>11215</th>\n",
       "      <td>3</td>\n",
       "      <td>0.013643</td>\n",
       "      <td>0</td>\n",
       "      <td>0</td>\n",
       "      <td>1</td>\n",
       "      <td>0.028169</td>\n",
       "      <td>1</td>\n",
       "      <td>0.0</td>\n",
       "      <td>0.173913</td>\n",
       "      <td>0</td>\n",
       "      <td>0</td>\n",
       "    </tr>\n",
       "    <tr>\n",
       "      <th>11216</th>\n",
       "      <td>3</td>\n",
       "      <td>0.013643</td>\n",
       "      <td>0</td>\n",
       "      <td>0</td>\n",
       "      <td>1</td>\n",
       "      <td>0.014085</td>\n",
       "      <td>1</td>\n",
       "      <td>0.0</td>\n",
       "      <td>0.173913</td>\n",
       "      <td>1</td>\n",
       "      <td>1</td>\n",
       "    </tr>\n",
       "  </tbody>\n",
       "</table>\n",
       "<p>11217 rows × 11 columns</p>\n",
       "</div>"
      ],
      "text/plain": [
       "      impact_speeds    weight  Survived  seatbelt frontal  age_of_occupant  \\\n",
       "0                 5  0.035271         1         1       1         0.225352   \n",
       "1                 3  0.116747         1         0       0         0.535211   \n",
       "2                 5  0.035271         1         0       1         0.718310   \n",
       "3                 5  0.035271         1         0       1         0.676056   \n",
       "4                 5  0.017421         1         1       1         0.098592   \n",
       "...             ...       ...       ...       ...     ...              ...   \n",
       "11212             3  1.000000         0         0       1         0.014085   \n",
       "11213             2  0.092781         0         0       1         0.535211   \n",
       "11214             2  0.013643         0         0       1         0.154930   \n",
       "11215             3  0.013643         0         0       1         0.028169   \n",
       "11216             3  0.013643         0         0       1         0.014085   \n",
       "\n",
       "      airbag_deploy_type injSeverity  car_service_years  sex_m  \\\n",
       "0                      3         4.0           0.478261      1   \n",
       "1                      2         4.0           0.173913      0   \n",
       "2                      3         4.0           0.260870      1   \n",
       "3                      3         4.0           0.260870      0   \n",
       "4                      3         4.0           0.521739      1   \n",
       "...                  ...         ...                ...    ...   \n",
       "11212                  3         0.0           0.782609      1   \n",
       "11213                  2         2.0           0.043478      1   \n",
       "11214                  1         3.0           0.565217      0   \n",
       "11215                  1         0.0           0.173913      0   \n",
       "11216                  1         0.0           0.173913      1   \n",
       "\n",
       "       Occupant_role_pass  \n",
       "0                       0  \n",
       "1                       0  \n",
       "2                       0  \n",
       "3                       1  \n",
       "4                       0  \n",
       "...                   ...  \n",
       "11212                   0  \n",
       "11213                   0  \n",
       "11214                   0  \n",
       "11215                   0  \n",
       "11216                   1  \n",
       "\n",
       "[11217 rows x 11 columns]"
      ]
     },
     "execution_count": 278,
     "metadata": {},
     "output_type": "execute_result"
    }
   ],
   "source": [
    "df"
   ]
  },
  {
   "cell_type": "markdown",
   "id": "48aa9121",
   "metadata": {},
   "source": [
    "# Model Building:"
   ]
  },
  {
   "cell_type": "code",
   "execution_count": 279,
   "id": "5c2630b6",
   "metadata": {},
   "outputs": [],
   "source": [
    "# Train_Test_Split : 70:30\n",
    "X =  df.drop('Survived',axis=1)\n",
    "y = df['Survived']"
   ]
  },
  {
   "cell_type": "code",
   "execution_count": 280,
   "id": "03454a92",
   "metadata": {},
   "outputs": [],
   "source": [
    "# Split X and y into training and test set in 75:30 ratio\n",
    "from sklearn.model_selection import train_test_split\n",
    "X_train, X_test, y_train, y_test = train_test_split(X, y, test_size=0.30 , random_state=1,stratify=y)"
   ]
  },
  {
   "cell_type": "code",
   "execution_count": 281,
   "id": "4c163c80",
   "metadata": {},
   "outputs": [
    {
     "name": "stdout",
     "output_type": "stream",
     "text": [
      "X_train:  (7851, 10)\n",
      "X_test:  (3366, 10)\n",
      "y_train:  (7851,)\n",
      "y_test:  (3366,)\n"
     ]
    }
   ],
   "source": [
    "# Checking dimensions on the train and test data\n",
    "print('X_train: ',X_train.shape)\n",
    "print('X_test: ',X_test.shape)\n",
    "print('y_train: ',y_train.shape)\n",
    "print('y_test: ',y_test.shape)"
   ]
  },
  {
   "cell_type": "markdown",
   "id": "bdff7377",
   "metadata": {},
   "source": [
    "### Finding best parameters for Logistic regression using GridsearchCV"
   ]
  },
  {
   "cell_type": "code",
   "execution_count": 282,
   "id": "b957636a",
   "metadata": {},
   "outputs": [],
   "source": [
    "from sklearn.model_selection import GridSearchCV"
   ]
  },
  {
   "cell_type": "code",
   "execution_count": 283,
   "id": "4fc57087",
   "metadata": {},
   "outputs": [],
   "source": [
    "grid={'penalty':['l2','none'],\n",
    "      'solver':['sag','lbfgs'],\n",
    "      'tol':[0.0001,0.00001]}"
   ]
  },
  {
   "cell_type": "code",
   "execution_count": 284,
   "id": "a1652caa",
   "metadata": {},
   "outputs": [],
   "source": [
    "model = LogisticRegression(max_iter=10000,n_jobs=2)"
   ]
  },
  {
   "cell_type": "code",
   "execution_count": 285,
   "id": "6cacd113",
   "metadata": {},
   "outputs": [],
   "source": [
    "grid_search = GridSearchCV(estimator = model, param_grid = grid, cv = 3,n_jobs=-1,scoring='f1')"
   ]
  },
  {
   "cell_type": "code",
   "execution_count": 286,
   "id": "a4213df5",
   "metadata": {},
   "outputs": [
    {
     "data": {
      "text/html": [
       "<style>#sk-container-id-6 {color: black;background-color: white;}#sk-container-id-6 pre{padding: 0;}#sk-container-id-6 div.sk-toggleable {background-color: white;}#sk-container-id-6 label.sk-toggleable__label {cursor: pointer;display: block;width: 100%;margin-bottom: 0;padding: 0.3em;box-sizing: border-box;text-align: center;}#sk-container-id-6 label.sk-toggleable__label-arrow:before {content: \"▸\";float: left;margin-right: 0.25em;color: #696969;}#sk-container-id-6 label.sk-toggleable__label-arrow:hover:before {color: black;}#sk-container-id-6 div.sk-estimator:hover label.sk-toggleable__label-arrow:before {color: black;}#sk-container-id-6 div.sk-toggleable__content {max-height: 0;max-width: 0;overflow: hidden;text-align: left;background-color: #f0f8ff;}#sk-container-id-6 div.sk-toggleable__content pre {margin: 0.2em;color: black;border-radius: 0.25em;background-color: #f0f8ff;}#sk-container-id-6 input.sk-toggleable__control:checked~div.sk-toggleable__content {max-height: 200px;max-width: 100%;overflow: auto;}#sk-container-id-6 input.sk-toggleable__control:checked~label.sk-toggleable__label-arrow:before {content: \"▾\";}#sk-container-id-6 div.sk-estimator input.sk-toggleable__control:checked~label.sk-toggleable__label {background-color: #d4ebff;}#sk-container-id-6 div.sk-label input.sk-toggleable__control:checked~label.sk-toggleable__label {background-color: #d4ebff;}#sk-container-id-6 input.sk-hidden--visually {border: 0;clip: rect(1px 1px 1px 1px);clip: rect(1px, 1px, 1px, 1px);height: 1px;margin: -1px;overflow: hidden;padding: 0;position: absolute;width: 1px;}#sk-container-id-6 div.sk-estimator {font-family: monospace;background-color: #f0f8ff;border: 1px dotted black;border-radius: 0.25em;box-sizing: border-box;margin-bottom: 0.5em;}#sk-container-id-6 div.sk-estimator:hover {background-color: #d4ebff;}#sk-container-id-6 div.sk-parallel-item::after {content: \"\";width: 100%;border-bottom: 1px solid gray;flex-grow: 1;}#sk-container-id-6 div.sk-label:hover label.sk-toggleable__label {background-color: #d4ebff;}#sk-container-id-6 div.sk-serial::before {content: \"\";position: absolute;border-left: 1px solid gray;box-sizing: border-box;top: 0;bottom: 0;left: 50%;z-index: 0;}#sk-container-id-6 div.sk-serial {display: flex;flex-direction: column;align-items: center;background-color: white;padding-right: 0.2em;padding-left: 0.2em;position: relative;}#sk-container-id-6 div.sk-item {position: relative;z-index: 1;}#sk-container-id-6 div.sk-parallel {display: flex;align-items: stretch;justify-content: center;background-color: white;position: relative;}#sk-container-id-6 div.sk-item::before, #sk-container-id-6 div.sk-parallel-item::before {content: \"\";position: absolute;border-left: 1px solid gray;box-sizing: border-box;top: 0;bottom: 0;left: 50%;z-index: -1;}#sk-container-id-6 div.sk-parallel-item {display: flex;flex-direction: column;z-index: 1;position: relative;background-color: white;}#sk-container-id-6 div.sk-parallel-item:first-child::after {align-self: flex-end;width: 50%;}#sk-container-id-6 div.sk-parallel-item:last-child::after {align-self: flex-start;width: 50%;}#sk-container-id-6 div.sk-parallel-item:only-child::after {width: 0;}#sk-container-id-6 div.sk-dashed-wrapped {border: 1px dashed gray;margin: 0 0.4em 0.5em 0.4em;box-sizing: border-box;padding-bottom: 0.4em;background-color: white;}#sk-container-id-6 div.sk-label label {font-family: monospace;font-weight: bold;display: inline-block;line-height: 1.2em;}#sk-container-id-6 div.sk-label-container {text-align: center;}#sk-container-id-6 div.sk-container {/* jupyter's `normalize.less` sets `[hidden] { display: none; }` but bootstrap.min.css set `[hidden] { display: none !important; }` so we also need the `!important` here to be able to override the default hidden behavior on the sphinx rendered scikit-learn.org. See: https://github.com/scikit-learn/scikit-learn/issues/21755 */display: inline-block !important;position: relative;}#sk-container-id-6 div.sk-text-repr-fallback {display: none;}</style><div id=\"sk-container-id-6\" class=\"sk-top-container\"><div class=\"sk-text-repr-fallback\"><pre>GridSearchCV(cv=3, estimator=LogisticRegression(max_iter=10000, n_jobs=2),\n",
       "             n_jobs=-1,\n",
       "             param_grid={&#x27;penalty&#x27;: [&#x27;l2&#x27;, &#x27;none&#x27;], &#x27;solver&#x27;: [&#x27;sag&#x27;, &#x27;lbfgs&#x27;],\n",
       "                         &#x27;tol&#x27;: [0.0001, 1e-05]},\n",
       "             scoring=&#x27;f1&#x27;)</pre><b>In a Jupyter environment, please rerun this cell to show the HTML representation or trust the notebook. <br />On GitHub, the HTML representation is unable to render, please try loading this page with nbviewer.org.</b></div><div class=\"sk-container\" hidden><div class=\"sk-item sk-dashed-wrapped\"><div class=\"sk-label-container\"><div class=\"sk-label sk-toggleable\"><input class=\"sk-toggleable__control sk-hidden--visually\" id=\"sk-estimator-id-10\" type=\"checkbox\" ><label for=\"sk-estimator-id-10\" class=\"sk-toggleable__label sk-toggleable__label-arrow\">GridSearchCV</label><div class=\"sk-toggleable__content\"><pre>GridSearchCV(cv=3, estimator=LogisticRegression(max_iter=10000, n_jobs=2),\n",
       "             n_jobs=-1,\n",
       "             param_grid={&#x27;penalty&#x27;: [&#x27;l2&#x27;, &#x27;none&#x27;], &#x27;solver&#x27;: [&#x27;sag&#x27;, &#x27;lbfgs&#x27;],\n",
       "                         &#x27;tol&#x27;: [0.0001, 1e-05]},\n",
       "             scoring=&#x27;f1&#x27;)</pre></div></div></div><div class=\"sk-parallel\"><div class=\"sk-parallel-item\"><div class=\"sk-item\"><div class=\"sk-label-container\"><div class=\"sk-label sk-toggleable\"><input class=\"sk-toggleable__control sk-hidden--visually\" id=\"sk-estimator-id-11\" type=\"checkbox\" ><label for=\"sk-estimator-id-11\" class=\"sk-toggleable__label sk-toggleable__label-arrow\">estimator: LogisticRegression</label><div class=\"sk-toggleable__content\"><pre>LogisticRegression(max_iter=10000, n_jobs=2)</pre></div></div></div><div class=\"sk-serial\"><div class=\"sk-item\"><div class=\"sk-estimator sk-toggleable\"><input class=\"sk-toggleable__control sk-hidden--visually\" id=\"sk-estimator-id-12\" type=\"checkbox\" ><label for=\"sk-estimator-id-12\" class=\"sk-toggleable__label sk-toggleable__label-arrow\">LogisticRegression</label><div class=\"sk-toggleable__content\"><pre>LogisticRegression(max_iter=10000, n_jobs=2)</pre></div></div></div></div></div></div></div></div></div></div>"
      ],
      "text/plain": [
       "GridSearchCV(cv=3, estimator=LogisticRegression(max_iter=10000, n_jobs=2),\n",
       "             n_jobs=-1,\n",
       "             param_grid={'penalty': ['l2', 'none'], 'solver': ['sag', 'lbfgs'],\n",
       "                         'tol': [0.0001, 1e-05]},\n",
       "             scoring='f1')"
      ]
     },
     "execution_count": 286,
     "metadata": {},
     "output_type": "execute_result"
    }
   ],
   "source": [
    "# Fit the model \n",
    "\n",
    "grid_search.fit(X_train, y_train) # fit our train data onto the model\n"
   ]
  },
  {
   "cell_type": "code",
   "execution_count": 287,
   "id": "c0131e61",
   "metadata": {},
   "outputs": [
    {
     "name": "stdout",
     "output_type": "stream",
     "text": [
      "{'penalty': 'l2', 'solver': 'sag', 'tol': 0.0001} \n",
      "\n",
      "LogisticRegression(max_iter=10000, n_jobs=2, solver='sag')\n"
     ]
    }
   ],
   "source": [
    "print(grid_search.best_params_,'\\n')\n",
    "print(grid_search.best_estimator_)"
   ]
  },
  {
   "cell_type": "code",
   "execution_count": 288,
   "id": "6a2cbc92",
   "metadata": {},
   "outputs": [],
   "source": [
    "model = grid_search.best_estimator_"
   ]
  },
  {
   "cell_type": "markdown",
   "id": "b521f882",
   "metadata": {},
   "source": [
    "### Train data performance: logistic regression"
   ]
  },
  {
   "cell_type": "code",
   "execution_count": 289,
   "id": "d90667e2",
   "metadata": {},
   "outputs": [],
   "source": [
    "from sklearn.metrics import accuracy_score,f1_score, classification_report, confusion_matrix,precision_score,recall_score,roc_auc_score, roc_curve"
   ]
  },
  {
   "cell_type": "code",
   "execution_count": 290,
   "id": "2fd8942d",
   "metadata": {},
   "outputs": [],
   "source": [
    "ytrain_predict = model.predict(X_train)"
   ]
  },
  {
   "cell_type": "code",
   "execution_count": 291,
   "id": "1788038f",
   "metadata": {},
   "outputs": [
    {
     "name": "stdout",
     "output_type": "stream",
     "text": [
      "Train Accuracy Score for model LogisticRegression(max_iter=10000, n_jobs=2, solver='sag') is 0.9806\n"
     ]
    }
   ],
   "source": [
    "print(\"Train Accuracy Score for model {} is {}\".format(model,round(accuracy_score(y_train,ytrain_predict),4)))"
   ]
  },
  {
   "cell_type": "code",
   "execution_count": 292,
   "id": "1b5896f6",
   "metadata": {},
   "outputs": [
    {
     "name": "stdout",
     "output_type": "stream",
     "text": [
      "--------------------Classification Report - Train Data--------------------\n",
      "              precision    recall  f1-score   support\n",
      "\n",
      "           0       0.99      0.99      0.99      7025\n",
      "           1       0.93      0.89      0.91       826\n",
      "\n",
      "    accuracy                           0.98      7851\n",
      "   macro avg       0.96      0.94      0.95      7851\n",
      "weighted avg       0.98      0.98      0.98      7851\n",
      "\n"
     ]
    }
   ],
   "source": [
    "print(\"--------------------Classification Report - Train Data--------------------\")\n",
    "print(classification_report(y_train,ytrain_predict))"
   ]
  },
  {
   "cell_type": "code",
   "execution_count": 293,
   "id": "5fbc2e3d",
   "metadata": {},
   "outputs": [
    {
     "data": {
      "image/png": "[encoded data removed]",
      "text/plain": [
       "<Figure size 432x288 with 1 Axes>"
      ]
     },
     "metadata": {
      "needs_background": "light"
     },
     "output_type": "display_data"
    }
   ],
   "source": [
    "sns.heatmap(confusion_matrix(y_train,ytrain_predict),annot=True, fmt='d',\n",
    "        cbar=False,cmap='YlGnBu')\n",
    "plt.xlabel('Predicted Label')\n",
    "plt.ylabel('Actual Label')\n",
    "plt.title('Confusion Matrix - Train Data')\n",
    "plt.show()"
   ]
  },
  {
   "cell_type": "code",
   "execution_count": 294,
   "id": "1effc2fd",
   "metadata": {
    "scrolled": false
   },
   "outputs": [
    {
     "data": {
      "text/html": [
       "<div>\n",
       "<style scoped>\n",
       "    .dataframe tbody tr th:only-of-type {\n",
       "        vertical-align: middle;\n",
       "    }\n",
       "\n",
       "    .dataframe tbody tr th {\n",
       "        vertical-align: top;\n",
       "    }\n",
       "\n",
       "    .dataframe thead th {\n",
       "        text-align: right;\n",
       "    }\n",
       "</style>\n",
       "<table border=\"1\" class=\"dataframe\">\n",
       "  <thead>\n",
       "    <tr style=\"text-align: right;\">\n",
       "      <th></th>\n",
       "      <th>impact_speeds</th>\n",
       "      <th>weight</th>\n",
       "      <th>seatbelt</th>\n",
       "      <th>frontal</th>\n",
       "      <th>age_of_occupant</th>\n",
       "      <th>airbag_deploy_type</th>\n",
       "      <th>injSeverity</th>\n",
       "      <th>car_service_years</th>\n",
       "      <th>sex_m</th>\n",
       "      <th>Occupant_role_pass</th>\n",
       "    </tr>\n",
       "  </thead>\n",
       "  <tbody>\n",
       "    <tr>\n",
       "      <th>9902</th>\n",
       "      <td>4</td>\n",
       "      <td>0.019383</td>\n",
       "      <td>0</td>\n",
       "      <td>1</td>\n",
       "      <td>0.267606</td>\n",
       "      <td>1</td>\n",
       "      <td>2.0</td>\n",
       "      <td>0.086957</td>\n",
       "      <td>1</td>\n",
       "      <td>0</td>\n",
       "    </tr>\n",
       "    <tr>\n",
       "      <th>3514</th>\n",
       "      <td>2</td>\n",
       "      <td>0.213279</td>\n",
       "      <td>0</td>\n",
       "      <td>1</td>\n",
       "      <td>0.084507</td>\n",
       "      <td>3</td>\n",
       "      <td>0.0</td>\n",
       "      <td>0.608696</td>\n",
       "      <td>1</td>\n",
       "      <td>0</td>\n",
       "    </tr>\n",
       "    <tr>\n",
       "      <th>8332</th>\n",
       "      <td>3</td>\n",
       "      <td>0.024523</td>\n",
       "      <td>0</td>\n",
       "      <td>1</td>\n",
       "      <td>0.507042</td>\n",
       "      <td>1</td>\n",
       "      <td>1.0</td>\n",
       "      <td>0.434783</td>\n",
       "      <td>1</td>\n",
       "      <td>0</td>\n",
       "    </tr>\n",
       "    <tr>\n",
       "      <th>4498</th>\n",
       "      <td>5</td>\n",
       "      <td>0.098429</td>\n",
       "      <td>1</td>\n",
       "      <td>1</td>\n",
       "      <td>0.042254</td>\n",
       "      <td>1</td>\n",
       "      <td>4.0</td>\n",
       "      <td>0.260870</td>\n",
       "      <td>1</td>\n",
       "      <td>1</td>\n",
       "    </tr>\n",
       "    <tr>\n",
       "      <th>4918</th>\n",
       "      <td>2</td>\n",
       "      <td>0.194018</td>\n",
       "      <td>0</td>\n",
       "      <td>1</td>\n",
       "      <td>0.098592</td>\n",
       "      <td>2</td>\n",
       "      <td>0.0</td>\n",
       "      <td>0.086957</td>\n",
       "      <td>1</td>\n",
       "      <td>0</td>\n",
       "    </tr>\n",
       "    <tr>\n",
       "      <th>...</th>\n",
       "      <td>...</td>\n",
       "      <td>...</td>\n",
       "      <td>...</td>\n",
       "      <td>...</td>\n",
       "      <td>...</td>\n",
       "      <td>...</td>\n",
       "      <td>...</td>\n",
       "      <td>...</td>\n",
       "      <td>...</td>\n",
       "      <td>...</td>\n",
       "    </tr>\n",
       "    <tr>\n",
       "      <th>4123</th>\n",
       "      <td>3</td>\n",
       "      <td>0.336489</td>\n",
       "      <td>0</td>\n",
       "      <td>0</td>\n",
       "      <td>0.225352</td>\n",
       "      <td>2</td>\n",
       "      <td>0.0</td>\n",
       "      <td>0.086957</td>\n",
       "      <td>1</td>\n",
       "      <td>0</td>\n",
       "    </tr>\n",
       "    <tr>\n",
       "      <th>5172</th>\n",
       "      <td>2</td>\n",
       "      <td>0.208664</td>\n",
       "      <td>0</td>\n",
       "      <td>0</td>\n",
       "      <td>0.408451</td>\n",
       "      <td>2</td>\n",
       "      <td>1.0</td>\n",
       "      <td>0.434783</td>\n",
       "      <td>0</td>\n",
       "      <td>1</td>\n",
       "    </tr>\n",
       "    <tr>\n",
       "      <th>3691</th>\n",
       "      <td>4</td>\n",
       "      <td>0.094016</td>\n",
       "      <td>1</td>\n",
       "      <td>1</td>\n",
       "      <td>0.014085</td>\n",
       "      <td>3</td>\n",
       "      <td>3.0</td>\n",
       "      <td>0.565217</td>\n",
       "      <td>1</td>\n",
       "      <td>1</td>\n",
       "    </tr>\n",
       "    <tr>\n",
       "      <th>5901</th>\n",
       "      <td>2</td>\n",
       "      <td>1.000000</td>\n",
       "      <td>0</td>\n",
       "      <td>0</td>\n",
       "      <td>0.070423</td>\n",
       "      <td>3</td>\n",
       "      <td>0.0</td>\n",
       "      <td>0.521739</td>\n",
       "      <td>1</td>\n",
       "      <td>0</td>\n",
       "    </tr>\n",
       "    <tr>\n",
       "      <th>10606</th>\n",
       "      <td>4</td>\n",
       "      <td>0.308935</td>\n",
       "      <td>0</td>\n",
       "      <td>0</td>\n",
       "      <td>0.098592</td>\n",
       "      <td>2</td>\n",
       "      <td>2.0</td>\n",
       "      <td>0.217391</td>\n",
       "      <td>1</td>\n",
       "      <td>0</td>\n",
       "    </tr>\n",
       "  </tbody>\n",
       "</table>\n",
       "<p>3366 rows × 10 columns</p>\n",
       "</div>"
      ],
      "text/plain": [
       "      impact_speeds    weight  seatbelt frontal  age_of_occupant  \\\n",
       "9902              4  0.019383         0       1         0.267606   \n",
       "3514              2  0.213279         0       1         0.084507   \n",
       "8332              3  0.024523         0       1         0.507042   \n",
       "4498              5  0.098429         1       1         0.042254   \n",
       "4918              2  0.194018         0       1         0.098592   \n",
       "...             ...       ...       ...     ...              ...   \n",
       "4123              3  0.336489         0       0         0.225352   \n",
       "5172              2  0.208664         0       0         0.408451   \n",
       "3691              4  0.094016         1       1         0.014085   \n",
       "5901              2  1.000000         0       0         0.070423   \n",
       "10606             4  0.308935         0       0         0.098592   \n",
       "\n",
       "      airbag_deploy_type injSeverity  car_service_years  sex_m  \\\n",
       "9902                   1         2.0           0.086957      1   \n",
       "3514                   3         0.0           0.608696      1   \n",
       "8332                   1         1.0           0.434783      1   \n",
       "4498                   1         4.0           0.260870      1   \n",
       "4918                   2         0.0           0.086957      1   \n",
       "...                  ...         ...                ...    ...   \n",
       "4123                   2         0.0           0.086957      1   \n",
       "5172                   2         1.0           0.434783      0   \n",
       "3691                   3         3.0           0.565217      1   \n",
       "5901                   3         0.0           0.521739      1   \n",
       "10606                  2         2.0           0.217391      1   \n",
       "\n",
       "       Occupant_role_pass  \n",
       "9902                    0  \n",
       "3514                    0  \n",
       "8332                    0  \n",
       "4498                    1  \n",
       "4918                    0  \n",
       "...                   ...  \n",
       "4123                    0  \n",
       "5172                    1  \n",
       "3691                    1  \n",
       "5901                    0  \n",
       "10606                   0  \n",
       "\n",
       "[3366 rows x 10 columns]"
      ]
     },
     "execution_count": 294,
     "metadata": {},
     "output_type": "execute_result"
    }
   ],
   "source": [
    "X_test"
   ]
  },
  {
   "cell_type": "code",
   "execution_count": 295,
   "id": "b92d8b87",
   "metadata": {},
   "outputs": [
    {
     "data": {
      "text/html": [
       "<div>\n",
       "<style scoped>\n",
       "    .dataframe tbody tr th:only-of-type {\n",
       "        vertical-align: middle;\n",
       "    }\n",
       "\n",
       "    .dataframe tbody tr th {\n",
       "        vertical-align: top;\n",
       "    }\n",
       "\n",
       "    .dataframe thead th {\n",
       "        text-align: right;\n",
       "    }\n",
       "</style>\n",
       "<table border=\"1\" class=\"dataframe\">\n",
       "  <thead>\n",
       "    <tr style=\"text-align: right;\">\n",
       "      <th></th>\n",
       "      <th>impact_speeds</th>\n",
       "      <th>weight</th>\n",
       "      <th>seatbelt</th>\n",
       "      <th>frontal</th>\n",
       "      <th>age_of_occupant</th>\n",
       "      <th>airbag_deploy_type</th>\n",
       "      <th>injSeverity</th>\n",
       "      <th>car_service_years</th>\n",
       "      <th>sex_m</th>\n",
       "      <th>Occupant_role_pass</th>\n",
       "    </tr>\n",
       "  </thead>\n",
       "  <tbody>\n",
       "    <tr>\n",
       "      <th>7983</th>\n",
       "      <td>2</td>\n",
       "      <td>0.533832</td>\n",
       "      <td>0</td>\n",
       "      <td>1</td>\n",
       "      <td>0.605634</td>\n",
       "      <td>1</td>\n",
       "      <td>2.0</td>\n",
       "      <td>0.260870</td>\n",
       "      <td>1</td>\n",
       "      <td>0</td>\n",
       "    </tr>\n",
       "    <tr>\n",
       "      <th>838</th>\n",
       "      <td>2</td>\n",
       "      <td>0.013780</td>\n",
       "      <td>1</td>\n",
       "      <td>1</td>\n",
       "      <td>0.169014</td>\n",
       "      <td>3</td>\n",
       "      <td>0.0</td>\n",
       "      <td>0.782609</td>\n",
       "      <td>1</td>\n",
       "      <td>0</td>\n",
       "    </tr>\n",
       "    <tr>\n",
       "      <th>10490</th>\n",
       "      <td>3</td>\n",
       "      <td>0.073358</td>\n",
       "      <td>1</td>\n",
       "      <td>1</td>\n",
       "      <td>0.028169</td>\n",
       "      <td>1</td>\n",
       "      <td>3.0</td>\n",
       "      <td>0.217391</td>\n",
       "      <td>1</td>\n",
       "      <td>0</td>\n",
       "    </tr>\n",
       "    <tr>\n",
       "      <th>9555</th>\n",
       "      <td>2</td>\n",
       "      <td>0.014426</td>\n",
       "      <td>1</td>\n",
       "      <td>0</td>\n",
       "      <td>0.169014</td>\n",
       "      <td>3</td>\n",
       "      <td>3.0</td>\n",
       "      <td>0.695652</td>\n",
       "      <td>0</td>\n",
       "      <td>0</td>\n",
       "    </tr>\n",
       "    <tr>\n",
       "      <th>9332</th>\n",
       "      <td>3</td>\n",
       "      <td>0.354511</td>\n",
       "      <td>1</td>\n",
       "      <td>0</td>\n",
       "      <td>0.676056</td>\n",
       "      <td>2</td>\n",
       "      <td>3.0</td>\n",
       "      <td>0.086957</td>\n",
       "      <td>1</td>\n",
       "      <td>0</td>\n",
       "    </tr>\n",
       "    <tr>\n",
       "      <th>...</th>\n",
       "      <td>...</td>\n",
       "      <td>...</td>\n",
       "      <td>...</td>\n",
       "      <td>...</td>\n",
       "      <td>...</td>\n",
       "      <td>...</td>\n",
       "      <td>...</td>\n",
       "      <td>...</td>\n",
       "      <td>...</td>\n",
       "      <td>...</td>\n",
       "    </tr>\n",
       "    <tr>\n",
       "      <th>7599</th>\n",
       "      <td>2</td>\n",
       "      <td>0.166813</td>\n",
       "      <td>0</td>\n",
       "      <td>0</td>\n",
       "      <td>0.281690</td>\n",
       "      <td>2</td>\n",
       "      <td>2.0</td>\n",
       "      <td>0.130435</td>\n",
       "      <td>0</td>\n",
       "      <td>0</td>\n",
       "    </tr>\n",
       "    <tr>\n",
       "      <th>5809</th>\n",
       "      <td>2</td>\n",
       "      <td>0.072395</td>\n",
       "      <td>0</td>\n",
       "      <td>1</td>\n",
       "      <td>0.492958</td>\n",
       "      <td>1</td>\n",
       "      <td>3.0</td>\n",
       "      <td>0.304348</td>\n",
       "      <td>1</td>\n",
       "      <td>0</td>\n",
       "    </tr>\n",
       "    <tr>\n",
       "      <th>519</th>\n",
       "      <td>2</td>\n",
       "      <td>0.089841</td>\n",
       "      <td>1</td>\n",
       "      <td>0</td>\n",
       "      <td>0.957746</td>\n",
       "      <td>2</td>\n",
       "      <td>3.0</td>\n",
       "      <td>0.391304</td>\n",
       "      <td>1</td>\n",
       "      <td>1</td>\n",
       "    </tr>\n",
       "    <tr>\n",
       "      <th>1093</th>\n",
       "      <td>1</td>\n",
       "      <td>0.019601</td>\n",
       "      <td>0</td>\n",
       "      <td>1</td>\n",
       "      <td>0.098592</td>\n",
       "      <td>1</td>\n",
       "      <td>1.0</td>\n",
       "      <td>0.086957</td>\n",
       "      <td>0</td>\n",
       "      <td>1</td>\n",
       "    </tr>\n",
       "    <tr>\n",
       "      <th>491</th>\n",
       "      <td>4</td>\n",
       "      <td>0.040991</td>\n",
       "      <td>1</td>\n",
       "      <td>0</td>\n",
       "      <td>0.802817</td>\n",
       "      <td>3</td>\n",
       "      <td>4.0</td>\n",
       "      <td>0.521739</td>\n",
       "      <td>1</td>\n",
       "      <td>0</td>\n",
       "    </tr>\n",
       "  </tbody>\n",
       "</table>\n",
       "<p>7851 rows × 10 columns</p>\n",
       "</div>"
      ],
      "text/plain": [
       "      impact_speeds    weight  seatbelt frontal  age_of_occupant  \\\n",
       "7983              2  0.533832         0       1         0.605634   \n",
       "838               2  0.013780         1       1         0.169014   \n",
       "10490             3  0.073358         1       1         0.028169   \n",
       "9555              2  0.014426         1       0         0.169014   \n",
       "9332              3  0.354511         1       0         0.676056   \n",
       "...             ...       ...       ...     ...              ...   \n",
       "7599              2  0.166813         0       0         0.281690   \n",
       "5809              2  0.072395         0       1         0.492958   \n",
       "519               2  0.089841         1       0         0.957746   \n",
       "1093              1  0.019601         0       1         0.098592   \n",
       "491               4  0.040991         1       0         0.802817   \n",
       "\n",
       "      airbag_deploy_type injSeverity  car_service_years  sex_m  \\\n",
       "7983                   1         2.0           0.260870      1   \n",
       "838                    3         0.0           0.782609      1   \n",
       "10490                  1         3.0           0.217391      1   \n",
       "9555                   3         3.0           0.695652      0   \n",
       "9332                   2         3.0           0.086957      1   \n",
       "...                  ...         ...                ...    ...   \n",
       "7599                   2         2.0           0.130435      0   \n",
       "5809                   1         3.0           0.304348      1   \n",
       "519                    2         3.0           0.391304      1   \n",
       "1093                   1         1.0           0.086957      0   \n",
       "491                    3         4.0           0.521739      1   \n",
       "\n",
       "       Occupant_role_pass  \n",
       "7983                    0  \n",
       "838                     0  \n",
       "10490                   0  \n",
       "9555                    0  \n",
       "9332                    0  \n",
       "...                   ...  \n",
       "7599                    0  \n",
       "5809                    0  \n",
       "519                     1  \n",
       "1093                    1  \n",
       "491                     0  \n",
       "\n",
       "[7851 rows x 10 columns]"
      ]
     },
     "execution_count": 295,
     "metadata": {},
     "output_type": "execute_result"
    }
   ],
   "source": [
    "X_train"
   ]
  },
  {
   "cell_type": "code",
   "execution_count": 296,
   "id": "53126327",
   "metadata": {},
   "outputs": [
    {
     "name": "stdout",
     "output_type": "stream",
     "text": [
      "AUC Score for the Training Data : 0.986\n"
     ]
    },
    {
     "data": {
      "image/png": "[encoded data removed]",
      "text/plain": [
       "<Figure size 432x288 with 1 Axes>"
      ]
     },
     "metadata": {
      "needs_background": "light"
     },
     "output_type": "display_data"
    }
   ],
   "source": [
    " # AUC and ROC for the training data\n",
    "\n",
    "# predict probabilities\n",
    "probs = model.predict_proba(np.array(X_train))\n",
    "# keep probabilities for the positive outcome only\n",
    "probs = probs[:, 1]\n",
    "# calculate AUC\n",
    "from sklearn.metrics import roc_auc_score\n",
    "auc = roc_auc_score(y_train, probs)\n",
    "print('AUC Score for the Training Data : %.3f' % auc)\n",
    "# calculate roc curve\n",
    "from sklearn.metrics import roc_curve\n",
    "fpr_train, tpr_train, thresholds = roc_curve(y_train, probs)\n",
    "plt.plot([0, 1], [0, 1], linestyle='--')\n",
    "# plot the roc curve for the model\n",
    "plt.plot(fpr_train, tpr_train, marker='.')\n",
    "plt.title('Train Data - ROC Curve')\n",
    "# show the plot\n",
    "plt.show()"
   ]
  },
  {
   "cell_type": "markdown",
   "id": "c25710c4",
   "metadata": {},
   "source": [
    "### Test data performance: logistic regression"
   ]
  },
  {
   "cell_type": "code",
   "execution_count": 297,
   "id": "d56c20f3",
   "metadata": {},
   "outputs": [],
   "source": [
    "ytest_predict = model.predict(X_test)"
   ]
  },
  {
   "cell_type": "code",
   "execution_count": 298,
   "id": "c78cb986",
   "metadata": {},
   "outputs": [
    {
     "name": "stdout",
     "output_type": "stream",
     "text": [
      "Test Accuracy Score for model LogisticRegression(max_iter=10000, n_jobs=2, solver='sag') is 0.9816\n"
     ]
    }
   ],
   "source": [
    "print(\"Test Accuracy Score for model {} is {}\".format(model,round(accuracy_score(y_test,ytest_predict),4)))"
   ]
  },
  {
   "cell_type": "code",
   "execution_count": 299,
   "id": "16a2a37f",
   "metadata": {},
   "outputs": [
    {
     "name": "stdout",
     "output_type": "stream",
     "text": [
      "--------------------Classification Report - Test Data--------------------\n",
      "              precision    recall  f1-score   support\n",
      "\n",
      "           0       0.99      0.99      0.99      3012\n",
      "           1       0.93      0.90      0.91       354\n",
      "\n",
      "    accuracy                           0.98      3366\n",
      "   macro avg       0.96      0.94      0.95      3366\n",
      "weighted avg       0.98      0.98      0.98      3366\n",
      "\n"
     ]
    }
   ],
   "source": [
    "print(\"--------------------Classification Report - Test Data--------------------\")\n",
    "print(classification_report(y_test,ytest_predict))"
   ]
  },
  {
   "cell_type": "code",
   "execution_count": 300,
   "id": "32e2424a",
   "metadata": {},
   "outputs": [
    {
     "data": {
      "image/png": "[encoded data removed]",
      "text/plain": [
       "<Figure size 432x288 with 1 Axes>"
      ]
     },
     "metadata": {
      "needs_background": "light"
     },
     "output_type": "display_data"
    }
   ],
   "source": [
    "sns.heatmap(confusion_matrix(y_test,ytest_predict),annot=True, fmt='d',\n",
    "        cbar=False,cmap='YlGnBu')\n",
    "plt.xlabel('Predicted Label')\n",
    "plt.ylabel('Actual Label')\n",
    "plt.title('Confusion Matrix - Test Data')\n",
    "plt.show()"
   ]
  },
  {
   "cell_type": "code",
   "execution_count": 301,
   "id": "ffde947b",
   "metadata": {
    "scrolled": false
   },
   "outputs": [
    {
     "name": "stdout",
     "output_type": "stream",
     "text": [
      "AUC Score for the Test Data : 0.990\n"
     ]
    },
    {
     "data": {
      "image/png": "[encoded data removed]",
      "text/plain": [
       "<Figure size 432x288 with 1 Axes>"
      ]
     },
     "metadata": {
      "needs_background": "light"
     },
     "output_type": "display_data"
    }
   ],
   "source": [
    " # AUC and ROC for the test data\n",
    "\n",
    "# predict probabilities\n",
    "probs = model.predict_proba(np.array(X_test))\n",
    "# keep probabilities for the positive outcome only\n",
    "probs = probs[:, 1]\n",
    "# calculate AUC\n",
    "from sklearn.metrics import roc_auc_score\n",
    "auc = roc_auc_score(y_test, probs)\n",
    "print('AUC Score for the Test Data : %.3f' % auc)\n",
    "# calculate roc curve\n",
    "from sklearn.metrics import roc_curve\n",
    "fpr_test, tpr_test, thresholds = roc_curve(y_test, probs)\n",
    "plt.plot([0, 1], [0, 1], linestyle='--')\n",
    "# plot the roc curve for the model\n",
    "plt.plot(fpr_test, tpr_test, marker='.')\n",
    "plt.title('Test Data - ROC Curve')\n",
    "# show the plot\n",
    "plt.show()"
   ]
  },
  {
   "cell_type": "code",
   "execution_count": 302,
   "id": "96018116",
   "metadata": {
    "scrolled": true
   },
   "outputs": [
    {
     "ename": "SyntaxError",
     "evalue": "unexpected EOF while parsing (Temp/ipykernel_23884/235279450.py, line 1)",
     "output_type": "error",
     "traceback": [
      "\u001b[1;36m  File \u001b[1;32m\"C:\\Users\\vasan\\AppData\\Local\\Temp/ipykernel_23884/235279450.py\"\u001b[1;36m, line \u001b[1;32m1\u001b[0m\n\u001b[1;33m    DDFFSDFDSFSDS.MEAN(\u001b[0m\n\u001b[1;37m                       ^\u001b[0m\n\u001b[1;31mSyntaxError\u001b[0m\u001b[1;31m:\u001b[0m unexpected EOF while parsing\n"
     ]
    }
   ],
   "source": [
    "DDFFSDFDSFSDS.MEAN("
   ]
  },
  {
   "cell_type": "markdown",
   "id": "0afa7771",
   "metadata": {},
   "source": [
    "## Feature Importance-Logistic Regression"
   ]
  },
  {
   "cell_type": "code",
   "execution_count": 303,
   "id": "b87bb813",
   "metadata": {
    "scrolled": true
   },
   "outputs": [
    {
     "data": {
      "text/html": [
       "<style>#sk-container-id-7 {color: black;background-color: white;}#sk-container-id-7 pre{padding: 0;}#sk-container-id-7 div.sk-toggleable {background-color: white;}#sk-container-id-7 label.sk-toggleable__label {cursor: pointer;display: block;width: 100%;margin-bottom: 0;padding: 0.3em;box-sizing: border-box;text-align: center;}#sk-container-id-7 label.sk-toggleable__label-arrow:before {content: \"▸\";float: left;margin-right: 0.25em;color: #696969;}#sk-container-id-7 label.sk-toggleable__label-arrow:hover:before {color: black;}#sk-container-id-7 div.sk-estimator:hover label.sk-toggleable__label-arrow:before {color: black;}#sk-container-id-7 div.sk-toggleable__content {max-height: 0;max-width: 0;overflow: hidden;text-align: left;background-color: #f0f8ff;}#sk-container-id-7 div.sk-toggleable__content pre {margin: 0.2em;color: black;border-radius: 0.25em;background-color: #f0f8ff;}#sk-container-id-7 input.sk-toggleable__control:checked~div.sk-toggleable__content {max-height: 200px;max-width: 100%;overflow: auto;}#sk-container-id-7 input.sk-toggleable__control:checked~label.sk-toggleable__label-arrow:before {content: \"▾\";}#sk-container-id-7 div.sk-estimator input.sk-toggleable__control:checked~label.sk-toggleable__label {background-color: #d4ebff;}#sk-container-id-7 div.sk-label input.sk-toggleable__control:checked~label.sk-toggleable__label {background-color: #d4ebff;}#sk-container-id-7 input.sk-hidden--visually {border: 0;clip: rect(1px 1px 1px 1px);clip: rect(1px, 1px, 1px, 1px);height: 1px;margin: -1px;overflow: hidden;padding: 0;position: absolute;width: 1px;}#sk-container-id-7 div.sk-estimator {font-family: monospace;background-color: #f0f8ff;border: 1px dotted black;border-radius: 0.25em;box-sizing: border-box;margin-bottom: 0.5em;}#sk-container-id-7 div.sk-estimator:hover {background-color: #d4ebff;}#sk-container-id-7 div.sk-parallel-item::after {content: \"\";width: 100%;border-bottom: 1px solid gray;flex-grow: 1;}#sk-container-id-7 div.sk-label:hover label.sk-toggleable__label {background-color: #d4ebff;}#sk-container-id-7 div.sk-serial::before {content: \"\";position: absolute;border-left: 1px solid gray;box-sizing: border-box;top: 0;bottom: 0;left: 50%;z-index: 0;}#sk-container-id-7 div.sk-serial {display: flex;flex-direction: column;align-items: center;background-color: white;padding-right: 0.2em;padding-left: 0.2em;position: relative;}#sk-container-id-7 div.sk-item {position: relative;z-index: 1;}#sk-container-id-7 div.sk-parallel {display: flex;align-items: stretch;justify-content: center;background-color: white;position: relative;}#sk-container-id-7 div.sk-item::before, #sk-container-id-7 div.sk-parallel-item::before {content: \"\";position: absolute;border-left: 1px solid gray;box-sizing: border-box;top: 0;bottom: 0;left: 50%;z-index: -1;}#sk-container-id-7 div.sk-parallel-item {display: flex;flex-direction: column;z-index: 1;position: relative;background-color: white;}#sk-container-id-7 div.sk-parallel-item:first-child::after {align-self: flex-end;width: 50%;}#sk-container-id-7 div.sk-parallel-item:last-child::after {align-self: flex-start;width: 50%;}#sk-container-id-7 div.sk-parallel-item:only-child::after {width: 0;}#sk-container-id-7 div.sk-dashed-wrapped {border: 1px dashed gray;margin: 0 0.4em 0.5em 0.4em;box-sizing: border-box;padding-bottom: 0.4em;background-color: white;}#sk-container-id-7 div.sk-label label {font-family: monospace;font-weight: bold;display: inline-block;line-height: 1.2em;}#sk-container-id-7 div.sk-label-container {text-align: center;}#sk-container-id-7 div.sk-container {/* jupyter's `normalize.less` sets `[hidden] { display: none; }` but bootstrap.min.css set `[hidden] { display: none !important; }` so we also need the `!important` here to be able to override the default hidden behavior on the sphinx rendered scikit-learn.org. See: https://github.com/scikit-learn/scikit-learn/issues/21755 */display: inline-block !important;position: relative;}#sk-container-id-7 div.sk-text-repr-fallback {display: none;}</style><div id=\"sk-container-id-7\" class=\"sk-top-container\"><div class=\"sk-text-repr-fallback\"><pre>LogisticRegression(max_iter=10000, n_jobs=2, solver=&#x27;sag&#x27;)</pre><b>In a Jupyter environment, please rerun this cell to show the HTML representation or trust the notebook. <br />On GitHub, the HTML representation is unable to render, please try loading this page with nbviewer.org.</b></div><div class=\"sk-container\" hidden><div class=\"sk-item\"><div class=\"sk-estimator sk-toggleable\"><input class=\"sk-toggleable__control sk-hidden--visually\" id=\"sk-estimator-id-13\" type=\"checkbox\" checked><label for=\"sk-estimator-id-13\" class=\"sk-toggleable__label sk-toggleable__label-arrow\">LogisticRegression</label><div class=\"sk-toggleable__content\"><pre>LogisticRegression(max_iter=10000, n_jobs=2, solver=&#x27;sag&#x27;)</pre></div></div></div></div></div>"
      ],
      "text/plain": [
       "LogisticRegression(max_iter=10000, n_jobs=2, solver='sag')"
      ]
     },
     "execution_count": 303,
     "metadata": {},
     "output_type": "execute_result"
    }
   ],
   "source": [
    "model"
   ]
  },
  {
   "cell_type": "code",
   "execution_count": 313,
   "id": "689af260",
   "metadata": {},
   "outputs": [],
   "source": [
    "# get importance\n",
    "importance = model.coef_[0]\n",
    "# summarize feature importance\n",
    "list_= []\n",
    "imp = []\n",
    "for i,v in enumerate(importance):\n",
    "    list_.append(i)\n",
    "    imp.append(v)\n"
   ]
  },
  {
   "cell_type": "code",
   "execution_count": 308,
   "id": "95ef9e72",
   "metadata": {},
   "outputs": [
    {
     "data": {
      "text/plain": [
       "[0.8407176334407664,\n",
       " -3.475809751541451,\n",
       " 0.7637444963026369,\n",
       " -0.9517703739305174,\n",
       " 2.3164320519781985,\n",
       " 0.3684824205105042,\n",
       " 4.203291934702835,\n",
       " -0.6678246961765258,\n",
       " 0.3635857392378272,\n",
       " 0.32764548936870685]"
      ]
     },
     "execution_count": 308,
     "metadata": {},
     "output_type": "execute_result"
    }
   ],
   "source": [
    "imp"
   ]
  },
  {
   "cell_type": "code",
   "execution_count": 314,
   "id": "3f87a43b",
   "metadata": {},
   "outputs": [],
   "source": [
    "important_df = pd.DataFrame(X_train.columns,columns=['feature'])\n",
    "important_df['importance'] = imp"
   ]
  },
  {
   "cell_type": "code",
   "execution_count": 317,
   "id": "2ef0af3c",
   "metadata": {},
   "outputs": [
    {
     "data": {
      "text/html": [
       "<div>\n",
       "<style scoped>\n",
       "    .dataframe tbody tr th:only-of-type {\n",
       "        vertical-align: middle;\n",
       "    }\n",
       "\n",
       "    .dataframe tbody tr th {\n",
       "        vertical-align: top;\n",
       "    }\n",
       "\n",
       "    .dataframe thead th {\n",
       "        text-align: right;\n",
       "    }\n",
       "</style>\n",
       "<table border=\"1\" class=\"dataframe\">\n",
       "  <thead>\n",
       "    <tr style=\"text-align: right;\">\n",
       "      <th></th>\n",
       "      <th>feature</th>\n",
       "      <th>importance</th>\n",
       "    </tr>\n",
       "  </thead>\n",
       "  <tbody>\n",
       "    <tr>\n",
       "      <th>6</th>\n",
       "      <td>injSeverity</td>\n",
       "      <td>4.203292</td>\n",
       "    </tr>\n",
       "    <tr>\n",
       "      <th>4</th>\n",
       "      <td>age_of_occupant</td>\n",
       "      <td>2.316432</td>\n",
       "    </tr>\n",
       "    <tr>\n",
       "      <th>0</th>\n",
       "      <td>impact_speeds</td>\n",
       "      <td>0.840718</td>\n",
       "    </tr>\n",
       "    <tr>\n",
       "      <th>2</th>\n",
       "      <td>seatbelt</td>\n",
       "      <td>0.763744</td>\n",
       "    </tr>\n",
       "    <tr>\n",
       "      <th>5</th>\n",
       "      <td>airbag_deploy_type</td>\n",
       "      <td>0.368482</td>\n",
       "    </tr>\n",
       "    <tr>\n",
       "      <th>8</th>\n",
       "      <td>sex_m</td>\n",
       "      <td>0.363586</td>\n",
       "    </tr>\n",
       "    <tr>\n",
       "      <th>9</th>\n",
       "      <td>Occupant_role_pass</td>\n",
       "      <td>0.327645</td>\n",
       "    </tr>\n",
       "    <tr>\n",
       "      <th>7</th>\n",
       "      <td>car_service_years</td>\n",
       "      <td>-0.667825</td>\n",
       "    </tr>\n",
       "    <tr>\n",
       "      <th>3</th>\n",
       "      <td>frontal</td>\n",
       "      <td>-0.951770</td>\n",
       "    </tr>\n",
       "    <tr>\n",
       "      <th>1</th>\n",
       "      <td>weight</td>\n",
       "      <td>-3.475810</td>\n",
       "    </tr>\n",
       "  </tbody>\n",
       "</table>\n",
       "</div>"
      ],
      "text/plain": [
       "              feature  importance\n",
       "6         injSeverity    4.203292\n",
       "4     age_of_occupant    2.316432\n",
       "0       impact_speeds    0.840718\n",
       "2            seatbelt    0.763744\n",
       "5  airbag_deploy_type    0.368482\n",
       "8               sex_m    0.363586\n",
       "9  Occupant_role_pass    0.327645\n",
       "7   car_service_years   -0.667825\n",
       "3             frontal   -0.951770\n",
       "1              weight   -3.475810"
      ]
     },
     "execution_count": 317,
     "metadata": {},
     "output_type": "execute_result"
    }
   ],
   "source": [
    "important_df.sort_values(by='importance',ascending=False)"
   ]
  },
  {
   "cell_type": "code",
   "execution_count": 316,
   "id": "d62b5add",
   "metadata": {},
   "outputs": [
    {
     "data": {
      "image/png": "[encoded data removed]",
      "text/plain": [
       "<Figure size 864x576 with 1 Axes>"
      ]
     },
     "metadata": {
      "needs_background": "light"
     },
     "output_type": "display_data"
    }
   ],
   "source": [
    "# plot feature importance\n",
    "from matplotlib import pyplot\n",
    "plt.figure(figsize=(12,8))\n",
    "sns.barplot(x='feature',y='importance',data=important_df.sort_values(by=\"importance\",ascending=False));\n",
    "plt.title(\"Variable Importance -Logistic Regression\")\n",
    "plt.xticks(rotation=90)\n",
    "plt.show()"
   ]
  },
  {
   "cell_type": "markdown",
   "id": "77a517ca",
   "metadata": {},
   "source": [
    "### Top 5 features help us predict the survival are \n",
    "1. injseverity\n",
    "2.age_of_occupant\n",
    "3.Impact speed\n",
    "4.Seatbelt\n",
    "5.air_bag_deploy_type"
   ]
  },
  {
   "cell_type": "markdown",
   "id": "e30ec488",
   "metadata": {},
   "source": [
    "## LDA Model"
   ]
  },
  {
   "cell_type": "markdown",
   "id": "34215b25",
   "metadata": {},
   "source": [
    "**Building the Model**"
   ]
  },
  {
   "cell_type": "code",
   "execution_count": 324,
   "id": "0e297e71",
   "metadata": {},
   "outputs": [],
   "source": [
    "from sklearn.discriminant_analysis import LinearDiscriminantAnalysis"
   ]
  },
  {
   "cell_type": "code",
   "execution_count": 325,
   "id": "e8976c19",
   "metadata": {},
   "outputs": [],
   "source": [
    "# create an object of lineardescriminant model\n",
    "model = LinearDiscriminantAnalysis()"
   ]
  },
  {
   "cell_type": "code",
   "execution_count": 326,
   "id": "f962cc02",
   "metadata": {
    "scrolled": false
   },
   "outputs": [
    {
     "data": {
      "text/html": [
       "<style>#sk-container-id-8 {color: black;background-color: white;}#sk-container-id-8 pre{padding: 0;}#sk-container-id-8 div.sk-toggleable {background-color: white;}#sk-container-id-8 label.sk-toggleable__label {cursor: pointer;display: block;width: 100%;margin-bottom: 0;padding: 0.3em;box-sizing: border-box;text-align: center;}#sk-container-id-8 label.sk-toggleable__label-arrow:before {content: \"▸\";float: left;margin-right: 0.25em;color: #696969;}#sk-container-id-8 label.sk-toggleable__label-arrow:hover:before {color: black;}#sk-container-id-8 div.sk-estimator:hover label.sk-toggleable__label-arrow:before {color: black;}#sk-container-id-8 div.sk-toggleable__content {max-height: 0;max-width: 0;overflow: hidden;text-align: left;background-color: #f0f8ff;}#sk-container-id-8 div.sk-toggleable__content pre {margin: 0.2em;color: black;border-radius: 0.25em;background-color: #f0f8ff;}#sk-container-id-8 input.sk-toggleable__control:checked~div.sk-toggleable__content {max-height: 200px;max-width: 100%;overflow: auto;}#sk-container-id-8 input.sk-toggleable__control:checked~label.sk-toggleable__label-arrow:before {content: \"▾\";}#sk-container-id-8 div.sk-estimator input.sk-toggleable__control:checked~label.sk-toggleable__label {background-color: #d4ebff;}#sk-container-id-8 div.sk-label input.sk-toggleable__control:checked~label.sk-toggleable__label {background-color: #d4ebff;}#sk-container-id-8 input.sk-hidden--visually {border: 0;clip: rect(1px 1px 1px 1px);clip: rect(1px, 1px, 1px, 1px);height: 1px;margin: -1px;overflow: hidden;padding: 0;position: absolute;width: 1px;}#sk-container-id-8 div.sk-estimator {font-family: monospace;background-color: #f0f8ff;border: 1px dotted black;border-radius: 0.25em;box-sizing: border-box;margin-bottom: 0.5em;}#sk-container-id-8 div.sk-estimator:hover {background-color: #d4ebff;}#sk-container-id-8 div.sk-parallel-item::after {content: \"\";width: 100%;border-bottom: 1px solid gray;flex-grow: 1;}#sk-container-id-8 div.sk-label:hover label.sk-toggleable__label {background-color: #d4ebff;}#sk-container-id-8 div.sk-serial::before {content: \"\";position: absolute;border-left: 1px solid gray;box-sizing: border-box;top: 0;bottom: 0;left: 50%;z-index: 0;}#sk-container-id-8 div.sk-serial {display: flex;flex-direction: column;align-items: center;background-color: white;padding-right: 0.2em;padding-left: 0.2em;position: relative;}#sk-container-id-8 div.sk-item {position: relative;z-index: 1;}#sk-container-id-8 div.sk-parallel {display: flex;align-items: stretch;justify-content: center;background-color: white;position: relative;}#sk-container-id-8 div.sk-item::before, #sk-container-id-8 div.sk-parallel-item::before {content: \"\";position: absolute;border-left: 1px solid gray;box-sizing: border-box;top: 0;bottom: 0;left: 50%;z-index: -1;}#sk-container-id-8 div.sk-parallel-item {display: flex;flex-direction: column;z-index: 1;position: relative;background-color: white;}#sk-container-id-8 div.sk-parallel-item:first-child::after {align-self: flex-end;width: 50%;}#sk-container-id-8 div.sk-parallel-item:last-child::after {align-self: flex-start;width: 50%;}#sk-container-id-8 div.sk-parallel-item:only-child::after {width: 0;}#sk-container-id-8 div.sk-dashed-wrapped {border: 1px dashed gray;margin: 0 0.4em 0.5em 0.4em;box-sizing: border-box;padding-bottom: 0.4em;background-color: white;}#sk-container-id-8 div.sk-label label {font-family: monospace;font-weight: bold;display: inline-block;line-height: 1.2em;}#sk-container-id-8 div.sk-label-container {text-align: center;}#sk-container-id-8 div.sk-container {/* jupyter's `normalize.less` sets `[hidden] { display: none; }` but bootstrap.min.css set `[hidden] { display: none !important; }` so we also need the `!important` here to be able to override the default hidden behavior on the sphinx rendered scikit-learn.org. See: https://github.com/scikit-learn/scikit-learn/issues/21755 */display: inline-block !important;position: relative;}#sk-container-id-8 div.sk-text-repr-fallback {display: none;}</style><div id=\"sk-container-id-8\" class=\"sk-top-container\"><div class=\"sk-text-repr-fallback\"><pre>LinearDiscriminantAnalysis()</pre><b>In a Jupyter environment, please rerun this cell to show the HTML representation or trust the notebook. <br />On GitHub, the HTML representation is unable to render, please try loading this page with nbviewer.org.</b></div><div class=\"sk-container\" hidden><div class=\"sk-item\"><div class=\"sk-estimator sk-toggleable\"><input class=\"sk-toggleable__control sk-hidden--visually\" id=\"sk-estimator-id-14\" type=\"checkbox\" checked><label for=\"sk-estimator-id-14\" class=\"sk-toggleable__label sk-toggleable__label-arrow\">LinearDiscriminantAnalysis</label><div class=\"sk-toggleable__content\"><pre>LinearDiscriminantAnalysis()</pre></div></div></div></div></div>"
      ],
      "text/plain": [
       "LinearDiscriminantAnalysis()"
      ]
     },
     "execution_count": 326,
     "metadata": {},
     "output_type": "execute_result"
    }
   ],
   "source": [
    "# fit the x_train and y_train on the model\n",
    "model.fit(X_train, y_train)"
   ]
  },
  {
   "cell_type": "markdown",
   "id": "83c7f4df",
   "metadata": {},
   "source": [
    "**Evaluating the Model**"
   ]
  },
  {
   "cell_type": "markdown",
   "id": "895e75c0",
   "metadata": {},
   "source": [
    "**Train data performance: LDA Model**"
   ]
  },
  {
   "cell_type": "code",
   "execution_count": 327,
   "id": "b694973c",
   "metadata": {},
   "outputs": [],
   "source": [
    "ytrain_predict = model.predict(X_train)"
   ]
  },
  {
   "cell_type": "code",
   "execution_count": 328,
   "id": "84df73c7",
   "metadata": {},
   "outputs": [
    {
     "name": "stdout",
     "output_type": "stream",
     "text": [
      "Train Accuracy Score for model LinearDiscriminantAnalysis() is 0.9497\n"
     ]
    }
   ],
   "source": [
    "print(\"Train Accuracy Score for model {} is {}\".format(model,round(accuracy_score(y_train,ytrain_predict),4)))"
   ]
  },
  {
   "cell_type": "code",
   "execution_count": 329,
   "id": "66e83c4a",
   "metadata": {},
   "outputs": [
    {
     "name": "stdout",
     "output_type": "stream",
     "text": [
      "--------------------Classification Report - Train Data--------------------\n",
      "              precision    recall  f1-score   support\n",
      "\n",
      "           0       0.96      0.98      0.97      7025\n",
      "           1       0.81      0.68      0.74       826\n",
      "\n",
      "    accuracy                           0.95      7851\n",
      "   macro avg       0.89      0.83      0.86      7851\n",
      "weighted avg       0.95      0.95      0.95      7851\n",
      "\n"
     ]
    }
   ],
   "source": [
    "print(\"--------------------Classification Report - Train Data--------------------\")\n",
    "print(classification_report(y_train,ytrain_predict))\n"
   ]
  },
  {
   "cell_type": "markdown",
   "id": "fee84aac",
   "metadata": {},
   "source": [
    "Observation:\n",
    "1. Recall is poor compared to the Logistic regression model \n",
    "2. Accuracy is good but given the imbalance on the dataset we can not rely on the accuracy of the model"
   ]
  },
  {
   "cell_type": "code",
   "execution_count": 330,
   "id": "c741b380",
   "metadata": {
    "scrolled": false
   },
   "outputs": [
    {
     "data": {
      "image/png": "[encoded data removed]",
      "text/plain": [
       "<Figure size 432x288 with 1 Axes>"
      ]
     },
     "metadata": {
      "needs_background": "light"
     },
     "output_type": "display_data"
    }
   ],
   "source": [
    "sns.heatmap(confusion_matrix(y_train,ytrain_predict),annot=True, fmt='d',\n",
    "        cbar=False,cmap='YlGnBu')\n",
    "plt.xlabel('Predicted Label')\n",
    "plt.ylabel('Actual Label')\n",
    "plt.title('Confusion Matrix - Train Data')\n",
    "plt.show()"
   ]
  },
  {
   "cell_type": "markdown",
   "id": "3cb55e2b",
   "metadata": {},
   "source": [
    "**Out of the 826 cases of our interest our model is able to predict only 559**"
   ]
  },
  {
   "cell_type": "code",
   "execution_count": 331,
   "id": "3e276d28",
   "metadata": {},
   "outputs": [
    {
     "name": "stdout",
     "output_type": "stream",
     "text": [
      "AUC Score for the Training Data : 0.971\n"
     ]
    },
    {
     "data": {
      "image/png": "[encoded data removed]",
      "text/plain": [
       "<Figure size 432x288 with 1 Axes>"
      ]
     },
     "metadata": {
      "needs_background": "light"
     },
     "output_type": "display_data"
    }
   ],
   "source": [
    " # AUC and ROC for the training data\n",
    "\n",
    "# predict probabilities\n",
    "probs = model.predict_proba(np.array(X_train))\n",
    "# keep probabilities for the positive outcome only\n",
    "probs = probs[:, 1]\n",
    "# calculate AUC\n",
    "from sklearn.metrics import roc_auc_score\n",
    "auc = roc_auc_score(y_train, probs)\n",
    "print('AUC Score for the Training Data : %.3f' % auc)\n",
    "# calculate roc curve\n",
    "from sklearn.metrics import roc_curve\n",
    "fpr_train, tpr_train, thresholds = roc_curve(y_train, probs)\n",
    "plt.plot([0, 1], [0, 1], linestyle='--')\n",
    "# plot the roc curve for the model\n",
    "plt.plot(fpr_train, tpr_train, marker='.')\n",
    "plt.title('Train Data - ROC Curve')\n",
    "# show the plot\n",
    "plt.show()"
   ]
  },
  {
   "cell_type": "markdown",
   "id": "1c8b8382",
   "metadata": {},
   "source": [
    "### Test data Performance - LDA Model"
   ]
  },
  {
   "cell_type": "code",
   "execution_count": 332,
   "id": "0a9631ac",
   "metadata": {},
   "outputs": [],
   "source": [
    "ytest_predict = model.predict(X_test)\n"
   ]
  },
  {
   "cell_type": "code",
   "execution_count": 333,
   "id": "646e545b",
   "metadata": {},
   "outputs": [
    {
     "name": "stdout",
     "output_type": "stream",
     "text": [
      "Test Accuracy Score for model LinearDiscriminantAnalysis() is 0.9513\n"
     ]
    }
   ],
   "source": [
    "print(\"Test Accuracy Score for model {} is {}\".format(model,round(accuracy_score(y_test,ytest_predict),4)))"
   ]
  },
  {
   "cell_type": "code",
   "execution_count": 334,
   "id": "7c367906",
   "metadata": {},
   "outputs": [
    {
     "name": "stdout",
     "output_type": "stream",
     "text": [
      "--------------------Classification Report - Test Data--------------------\n",
      "              precision    recall  f1-score   support\n",
      "\n",
      "           0       0.96      0.98      0.97      3012\n",
      "           1       0.82      0.69      0.75       354\n",
      "\n",
      "    accuracy                           0.95      3366\n",
      "   macro avg       0.89      0.84      0.86      3366\n",
      "weighted avg       0.95      0.95      0.95      3366\n",
      "\n"
     ]
    }
   ],
   "source": [
    "print(\"--------------------Classification Report - Test Data--------------------\")\n",
    "print(classification_report(y_test,ytest_predict))\n"
   ]
  },
  {
   "cell_type": "markdown",
   "id": "1f1cf2e6",
   "metadata": {},
   "source": [
    "**Observation:**\n",
    "1. Recall is poor compared to the Logistic regression model \n",
    "2. Accuracy is good but given the imbalance on the dataset we can not rely on the accuracy of the model"
   ]
  },
  {
   "cell_type": "code",
   "execution_count": 335,
   "id": "601246af",
   "metadata": {
    "scrolled": true
   },
   "outputs": [
    {
     "data": {
      "image/png": "[encoded data removed]",
      "text/plain": [
       "<Figure size 432x288 with 1 Axes>"
      ]
     },
     "metadata": {
      "needs_background": "light"
     },
     "output_type": "display_data"
    }
   ],
   "source": [
    "sns.heatmap(confusion_matrix(y_test,ytest_predict),annot=True, fmt='d',\n",
    "        cbar=False,cmap='YlGnBu')\n",
    "plt.xlabel('Predicted Label')\n",
    "plt.ylabel('Actual Label')\n",
    "plt.title('Confusion Matrix - Test Data')\n",
    "plt.show()"
   ]
  },
  {
   "cell_type": "markdown",
   "id": "088f5625",
   "metadata": {},
   "source": [
    "**109 cases were not survived but the model predicted that they will survive**"
   ]
  },
  {
   "cell_type": "code",
   "execution_count": 336,
   "id": "78dfe5e7",
   "metadata": {
    "scrolled": true
   },
   "outputs": [
    {
     "name": "stdout",
     "output_type": "stream",
     "text": [
      "AUC Score for the Test Data : 0.977\n"
     ]
    },
    {
     "data": {
      "image/png": "[encoded data removed]",
      "text/plain": [
       "<Figure size 432x288 with 1 Axes>"
      ]
     },
     "metadata": {
      "needs_background": "light"
     },
     "output_type": "display_data"
    }
   ],
   "source": [
    " # AUC and ROC for the test data\n",
    "\n",
    "# predict probabilities\n",
    "probs = model.predict_proba(np.array(X_test))\n",
    "# keep probabilities for the positive outcome only\n",
    "probs = probs[:, 1]\n",
    "# calculate AUC\n",
    "from sklearn.metrics import roc_auc_score\n",
    "auc = roc_auc_score(y_test, probs)\n",
    "print('AUC Score for the Test Data : %.3f' % auc)\n",
    "# calculate roc curve\n",
    "from sklearn.metrics import roc_curve\n",
    "fpr_test, tpr_test, thresholds = roc_curve(y_test, probs)\n",
    "plt.plot([0, 1], [0, 1], linestyle='--')\n",
    "# plot the roc curve for the model\n",
    "plt.plot(fpr_test, tpr_test, marker='.')\n",
    "plt.title('Test Data - ROC Curve')\n",
    "# show the plot\n",
    "plt.show()"
   ]
  },
  {
   "cell_type": "markdown",
   "id": "9576411c",
   "metadata": {},
   "source": [
    "## Final Conclusion :\n",
    "- Our target variable here is to predict whether the person wil survive or not \n",
    "- Since we have 89.5:10.5 proportion of Survived and not survived which is statisticallly imbalanced we can not make Accuracy as our measure of model performance \n",
    "- Recall and F1 Score are the best metrics for our case\n",
    "- False Negatives are of interest for us \n",
    "- Out of the 2 models Logistic regression has \n",
    "        Train - Recall : 0.89\n",
    "        Test - recall : 0.90\n",
    "   For LDA Model  :\n",
    "         Train - recall : 0.67\n",
    "         Test - recall : 0.68"
   ]
  },
  {
   "cell_type": "markdown",
   "id": "45cb2883",
   "metadata": {},
   "source": [
    "# So we choose Logistic regressio model for our prediction"
   ]
  },
  {
   "cell_type": "markdown",
   "id": "e0781abc",
   "metadata": {},
   "source": [
    "END"
   ]
  },
  {
   "cell_type": "code",
   "execution_count": null,
   "id": "2526ef38",
   "metadata": {},
   "outputs": [],
   "source": []
  }
 ],
 "metadata": {
  "kernelspec": {
   "display_name": "Python 3 (ipykernel)",
   "language": "python",
   "name": "python3"
  },
  "language_info": {
   "codemirror_mode": {
    "name": "ipython",
    "version": 3
   },
   "file_extension": ".py",
   "mimetype": "text/x-python",
   "name": "python",
   "nbconvert_exporter": "python",
   "pygments_lexer": "ipython3",
   "version": "3.9.7"
  }
 },
 "nbformat": 4,
 "nbformat_minor": 5
}
